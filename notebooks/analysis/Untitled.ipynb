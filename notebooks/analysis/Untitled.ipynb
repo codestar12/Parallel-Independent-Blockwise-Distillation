{
 "cells": [
  {
   "cell_type": "code",
   "execution_count": 1,
   "metadata": {},
   "outputs": [
    {
     "name": "stdout",
     "output_type": "stream",
     "text": [
      "Requirement already satisfied: binpacking in /usr/local/lib/python3.6/dist-packages (1.4.1)\n",
      "Requirement already satisfied: numpy in /usr/local/lib/python3.6/dist-packages (from binpacking) (1.18.2)\n",
      "Requirement already satisfied: future in /usr/local/lib/python3.6/dist-packages (from binpacking) (0.18.2)\n",
      "\u001b[33mWARNING: You are using pip version 20.0.2; however, version 20.1.1 is available.\n",
      "You should consider upgrading via the '/usr/bin/python3 -m pip install --upgrade pip' command.\u001b[0m\n"
     ]
    }
   ],
   "source": [
    "!pip install binpacking"
   ]
  },
  {
   "cell_type": "code",
   "execution_count": 2,
   "metadata": {},
   "outputs": [],
   "source": [
    "import json\n",
    "import binpacking"
   ]
  },
  {
   "cell_type": "code",
   "execution_count": 3,
   "metadata": {},
   "outputs": [],
   "source": [
    "with open(\"../../timing_info/vgg/one_gpu/cifar10.json\", 'rb') as f:\n",
    "    timing = json.load(f)\n"
   ]
  },
  {
   "cell_type": "code",
   "execution_count": 4,
   "metadata": {},
   "outputs": [],
   "source": [
    "runtime = {layer['layer']: layer['run_time'] for layer in timing[:-1:]}"
   ]
  },
  {
   "cell_type": "code",
   "execution_count": 5,
   "metadata": {},
   "outputs": [
    {
     "name": "stdout",
     "output_type": "stream",
     "text": [
      "0 972.4941544532776\n",
      "1 944.3900461196899\n",
      "2 822.8280026912689\n",
      "3 814.0209832191467\n"
     ]
    }
   ],
   "source": [
    "bins = binpacking.to_constant_bin_number(runtime, 4)\n",
    "bins.sort(key=lambda x: sum(x.values()), reverse=True)\n",
    "for i, b in enumerate(bins):\n",
    "    print(i, sum(b.values()))\n",
    "\n",
    "four_gpu_schedule = {str(i): [int(key) for key in b.keys()] for i, b in enumerate(bins)}\n",
    "with open(\"../../layer_schedules/vgg16/four_gpu_bin.json\", \"w\") as f:\n",
    "    json.dump(four_gpu_schedule,f, indent=4)"
   ]
  },
  {
   "cell_type": "code",
   "execution_count": 6,
   "metadata": {},
   "outputs": [
    {
     "name": "stdout",
     "output_type": "stream",
     "text": [
      "0 1240.7064099311829\n",
      "1 1233.9963645935059\n",
      "2 1079.0304119586945\n"
     ]
    }
   ],
   "source": [
    "bins = binpacking.to_constant_bin_number(runtime, 3)\n",
    "bins.sort(key=lambda x: sum(x.values()), reverse=True)\n",
    "for i, b in enumerate(bins):\n",
    "    print(i, sum(b.values()))\n",
    "\n",
    "three_gpu_schedule = {str(i): [int(key) for key in b.keys()] for i, b in enumerate(bins)}\n",
    "with open(\"../../layer_schedules/vgg16/three_gpu_bin.json\", \"w\") as f:\n",
    "    json.dump(three_gpu_schedule,f, indent=4)"
   ]
  },
  {
   "cell_type": "code",
   "execution_count": 7,
   "metadata": {},
   "outputs": [
    {
     "name": "stdout",
     "output_type": "stream",
     "text": [
      "0 1780.8784639835358\n",
      "1 1772.8547224998474\n"
     ]
    }
   ],
   "source": [
    "bins = binpacking.to_constant_bin_number(runtime, 2)\n",
    "bins.sort(key=lambda x: sum(x.values()), reverse=True)\n",
    "for i, b in enumerate(bins):\n",
    "    print(i, sum(b.values()))\n",
    "\n",
    "two_gpu_schedule = {str(i): [int(key) for key in b.keys()] for i, b in enumerate(bins)}\n",
    "with open(\"../../layer_schedules/vgg16/two_gpu_bin.json\", \"w\") as f:\n",
    "    json.dump(two_gpu_schedule,f, indent=4)"
   ]
  },
  {
   "cell_type": "code",
   "execution_count": null,
   "metadata": {},
   "outputs": [],
   "source": []
  }
 ],
 "metadata": {
  "kernelspec": {
   "display_name": "Python 3",
   "language": "python",
   "name": "python3"
  },
  "language_info": {
   "codemirror_mode": {
    "name": "ipython",
    "version": 3
   },
   "file_extension": ".py",
   "mimetype": "text/x-python",
   "name": "python",
   "nbconvert_exporter": "python",
   "pygments_lexer": "ipython3",
   "version": "3.6.9"
  }
 },
 "nbformat": 4,
 "nbformat_minor": 4
}
