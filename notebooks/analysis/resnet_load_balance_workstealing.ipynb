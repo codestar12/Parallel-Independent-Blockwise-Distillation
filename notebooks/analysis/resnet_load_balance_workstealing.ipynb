{
 "cells": [
  {
   "cell_type": "code",
   "execution_count": 1,
   "metadata": {},
   "outputs": [
    {
     "name": "stdout",
     "output_type": "stream",
     "text": [
      "Requirement already satisfied: seaborn in /usr/local/lib/python3.6/dist-packages (0.10.1)\n",
      "Requirement already satisfied: matplotlib>=2.1.2 in /usr/local/lib/python3.6/dist-packages (from seaborn) (3.3.0)\n",
      "Requirement already satisfied: pandas>=0.22.0 in /usr/local/lib/python3.6/dist-packages (from seaborn) (1.1.1)\n",
      "Requirement already satisfied: numpy>=1.13.3 in /usr/local/lib/python3.6/dist-packages (from seaborn) (1.18.5)\n",
      "Requirement already satisfied: scipy>=1.0.1 in /usr/local/lib/python3.6/dist-packages (from seaborn) (1.4.1)\n",
      "Requirement already satisfied: python-dateutil>=2.1 in /usr/local/lib/python3.6/dist-packages (from matplotlib>=2.1.2->seaborn) (2.8.1)\n",
      "Requirement already satisfied: cycler>=0.10 in /usr/local/lib/python3.6/dist-packages (from matplotlib>=2.1.2->seaborn) (0.10.0)\n",
      "Requirement already satisfied: pillow>=6.2.0 in /usr/local/lib/python3.6/dist-packages (from matplotlib>=2.1.2->seaborn) (7.2.0)\n",
      "Requirement already satisfied: pyparsing!=2.0.4,!=2.1.2,!=2.1.6,>=2.0.3 in /usr/local/lib/python3.6/dist-packages (from matplotlib>=2.1.2->seaborn) (2.4.7)\n",
      "Requirement already satisfied: kiwisolver>=1.0.1 in /usr/local/lib/python3.6/dist-packages (from matplotlib>=2.1.2->seaborn) (1.2.0)\n",
      "Requirement already satisfied: pytz>=2017.2 in /usr/local/lib/python3.6/dist-packages (from pandas>=0.22.0->seaborn) (2020.1)\n",
      "Requirement already satisfied: six>=1.5 in /usr/local/lib/python3.6/dist-packages (from python-dateutil>=2.1->matplotlib>=2.1.2->seaborn) (1.15.0)\n",
      "\u001b[33mWARNING: You are using pip version 20.1.1; however, version 20.2.2 is available.\n",
      "You should consider upgrading via the '/usr/bin/python3 -m pip install --upgrade pip' command.\u001b[0m\n"
     ]
    }
   ],
   "source": [
    "!pip install seaborn"
   ]
  },
  {
   "cell_type": "code",
   "execution_count": 2,
   "metadata": {},
   "outputs": [],
   "source": [
    "import json\n",
    "import numpy as np\n",
    "import matplotlib.pyplot as plt\n",
    "import seaborn as sb"
   ]
  },
  {
   "cell_type": "code",
   "execution_count": 3,
   "metadata": {},
   "outputs": [],
   "source": [
    "with open('../../timing_info/dask/four_gpu/resnet.json', 'r') as f:\n",
    "    four_gpu = json.load(f)"
   ]
  },
  {
   "cell_type": "code",
   "execution_count": 4,
   "metadata": {},
   "outputs": [
    {
     "data": {
      "text/plain": [
       "[{'name': 'conv2_block1_2_conv',\n",
       "  'layer': 10,\n",
       "  'run_time': 514.5013387203217,\n",
       "  'rank': 'worker2',\n",
       "  'replaced': True,\n",
       "  'score': [38.54265213012695, 0.8529000282287598]},\n",
       " {'name': 'conv2_block2_2_conv',\n",
       "  'layer': 22,\n",
       "  'run_time': 520.6781265735626,\n",
       "  'rank': 'worker2',\n",
       "  'replaced': True,\n",
       "  'score': [38.456459045410156, 0.8669999837875366]},\n",
       " {'name': 'conv2_block3_2_conv',\n",
       "  'layer': 32,\n",
       "  'run_time': 531.4917006492615,\n",
       "  'rank': 'worker1',\n",
       "  'replaced': True,\n",
       "  'score': [38.32576370239258, 0.8973000049591064]},\n",
       " {'name': 'conv3_block1_2_conv',\n",
       "  'layer': 42,\n",
       "  'run_time': 501.5565571784973,\n",
       "  'rank': 'worker',\n",
       "  'replaced': True,\n",
       "  'score': [38.2477912902832, 0.8587999939918518]},\n",
       " {'name': 'conv3_block2_2_conv',\n",
       "  'layer': 54,\n",
       "  'run_time': 501.9984726905823,\n",
       "  'rank': 'worker3',\n",
       "  'replaced': True,\n",
       "  'score': [37.996253967285156, 0.8988000154495239]},\n",
       " {'name': 'conv3_block3_2_conv',\n",
       "  'layer': 64,\n",
       "  'run_time': 504.52327513694763,\n",
       "  'rank': 'worker',\n",
       "  'replaced': True,\n",
       "  'score': [38.015079498291016, 0.902899980545044]},\n",
       " {'name': 'conv3_block4_2_conv',\n",
       "  'layer': 74,\n",
       "  'run_time': 547.1579089164734,\n",
       "  'rank': 'worker2',\n",
       "  'replaced': True,\n",
       "  'score': [37.99685287475586, 0.8902999758720398]},\n",
       " {'name': 'conv4_block1_2_conv',\n",
       "  'layer': 84,\n",
       "  'run_time': 499.4793372154236,\n",
       "  'rank': 'worker3',\n",
       "  'replaced': True,\n",
       "  'score': [36.80263900756836, 0.8871999979019165]},\n",
       " {'name': 'conv4_block2_2_conv',\n",
       "  'layer': 96,\n",
       "  'run_time': 501.5156292915344,\n",
       "  'rank': 'worker1',\n",
       "  'replaced': True,\n",
       "  'score': [36.86172866821289, 0.9031999707221985]},\n",
       " {'name': 'conv4_block3_2_conv',\n",
       "  'layer': 106,\n",
       "  'run_time': 505.0061264038086,\n",
       "  'rank': 'worker',\n",
       "  'replaced': True,\n",
       "  'score': [36.825828552246094, 0.9014999866485596]},\n",
       " {'name': 'conv4_block4_2_conv',\n",
       "  'layer': 116,\n",
       "  'run_time': 504.19418144226074,\n",
       "  'rank': 'worker1',\n",
       "  'replaced': True,\n",
       "  'score': [36.84294509887695, 0.9016000032424927]},\n",
       " {'name': 'conv4_block5_2_conv',\n",
       "  'layer': 126,\n",
       "  'run_time': 506.368577003479,\n",
       "  'rank': 'worker',\n",
       "  'replaced': True,\n",
       "  'score': [36.91018295288086, 0.9021000266075134]},\n",
       " {'name': 'conv4_block6_2_conv',\n",
       "  'layer': 136,\n",
       "  'run_time': 552.8625688552856,\n",
       "  'rank': 'worker1',\n",
       "  'replaced': True,\n",
       "  'score': [36.85813903808594, 0.9004999995231628]},\n",
       " {'name': 'conv5_block1_2_conv',\n",
       "  'layer': 146,\n",
       "  'run_time': 507.20139932632446,\n",
       "  'rank': 'worker2',\n",
       "  'replaced': True,\n",
       "  'score': [33.707576751708984, 0.8970999717712402]},\n",
       " {'name': 'conv5_block2_2_conv',\n",
       "  'layer': 158,\n",
       "  'run_time': 554.7989211082458,\n",
       "  'rank': 'worker3',\n",
       "  'replaced': True,\n",
       "  'score': [38.00338363647461, 0.9034000039100647]},\n",
       " {'name': 'conv5_block3_2_conv',\n",
       "  'layer': 168,\n",
       "  'run_time': 513.7424523830414,\n",
       "  'rank': 'worker3',\n",
       "  'replaced': True,\n",
       "  'score': [38.16526412963867, 0.9039000272750854]},\n",
       " {'total_time': 2094.2131769657135},\n",
       " {'final_acc': 0.5875999927520752},\n",
       " {'fine_tune_acc': 0.8610000014305115}]"
      ]
     },
     "execution_count": 4,
     "metadata": {},
     "output_type": "execute_result"
    }
   ],
   "source": [
    "four_gpu"
   ]
  },
  {
   "cell_type": "code",
   "execution_count": 5,
   "metadata": {},
   "outputs": [],
   "source": [
    "gpu_totals = {}\n",
    "\n",
    "for layer in four_gpu[:-3:]:\n",
    "    if layer['rank'] not in gpu_totals:\n",
    "        gpu_totals[layer['rank']] = layer['run_time']\n",
    "    else:\n",
    "        gpu_totals[layer['rank']] += layer['run_time']"
   ]
  },
  {
   "cell_type": "code",
   "execution_count": 6,
   "metadata": {},
   "outputs": [
    {
     "data": {
      "text/plain": [
       "{'worker2': 2089.538773536682,\n",
       " 'worker1': 2090.0640802383423,\n",
       " 'worker': 2017.4545357227325,\n",
       " 'worker3': 2070.019183397293}"
      ]
     },
     "execution_count": 6,
     "metadata": {},
     "output_type": "execute_result"
    }
   ],
   "source": [
    "gpu_totals"
   ]
  },
  {
   "cell_type": "code",
   "execution_count": null,
   "metadata": {},
   "outputs": [],
   "source": []
  },
  {
   "cell_type": "code",
   "execution_count": 7,
   "metadata": {},
   "outputs": [],
   "source": [
    "job_count = {}\n",
    "\n",
    "for layer in four_gpu[:-3:]:\n",
    "    if layer['rank'] not in job_count:\n",
    "        job_count[layer['rank']] = 1\n",
    "    else:\n",
    "        job_count[layer['rank']] += 1"
   ]
  },
  {
   "cell_type": "code",
   "execution_count": 8,
   "metadata": {},
   "outputs": [
    {
     "data": {
      "text/plain": [
       "{'worker2': 4, 'worker1': 4, 'worker': 4, 'worker3': 4}"
      ]
     },
     "execution_count": 8,
     "metadata": {},
     "output_type": "execute_result"
    }
   ],
   "source": [
    "job_count"
   ]
  },
  {
   "cell_type": "code",
   "execution_count": 9,
   "metadata": {},
   "outputs": [
    {
     "name": "stdout",
     "output_type": "stream",
     "text": [
      "[501.5565571784973, 504.52327513694763, 505.0061264038086, 506.368577003479] [ 501.55655718 1006.07983232 1511.08595872 2017.45453572]\n",
      "[531.4917006492615, 501.5156292915344, 504.19418144226074, 552.8625688552856] [ 531.49170065 1033.00732994 1537.20151138 2090.06408024]\n",
      "[514.5013387203217, 520.6781265735626, 547.1579089164734, 507.20139932632446] [ 514.50133872 1035.17946529 1582.33737421 2089.53877354]\n",
      "[501.9984726905823, 499.4793372154236, 554.7989211082458, 513.7424523830414] [ 501.99847269 1001.47780991 1556.27673101 2070.0191834 ]\n"
     ]
    }
   ],
   "source": [
    "gpu_0 = [layer['run_time'] for layer in four_gpu[:-3:] if layer['rank'] == \"worker\"]\n",
    "\n",
    "gpu_1 = [layer['run_time'] for layer in four_gpu[:-3:] if layer['rank'] == \"worker1\"]\n",
    "\n",
    "gpu_2 = [layer['run_time'] for layer in four_gpu[:-3:] if layer['rank'] == \"worker2\"]\n",
    "\n",
    "gpu_3 = [layer['run_time'] for layer in four_gpu[:-3:] if layer['rank'] == \"worker3\"]\n",
    "print(gpu_0, np.cumsum(gpu_0))\n",
    "print(gpu_1, np.cumsum(gpu_1))\n",
    "print(gpu_2, np.cumsum(gpu_2))\n",
    "print(gpu_3, np.cumsum(gpu_3))"
   ]
  },
  {
   "cell_type": "code",
   "execution_count": 10,
   "metadata": {},
   "outputs": [
    {
     "name": "stdout",
     "output_type": "stream",
     "text": [
      "[501.5565571784973, 504.52327513694763, 505.0061264038086, 506.368577003479]\n",
      "[531.4917006492615, 501.5156292915344, 504.19418144226074, 552.8625688552856]\n",
      "[514.5013387203217, 520.6781265735626, 547.1579089164734, 507.20139932632446]\n",
      "[501.9984726905823, 499.4793372154236, 554.7989211082458, 513.7424523830414]\n"
     ]
    }
   ],
   "source": [
    "# add zeros for stacked bar\n",
    "# chart\n",
    "# gpu_0.append(0)\n",
    "# gpu_1.append(0)\n",
    "# gpu_1.append(0)\n",
    "\n",
    "print(gpu_0)\n",
    "print(gpu_1)\n",
    "print(gpu_2)\n",
    "print(gpu_3)"
   ]
  },
  {
   "cell_type": "code",
   "execution_count": 11,
   "metadata": {},
   "outputs": [],
   "source": [
    "task_0 = [gpu_0[0], gpu_1[0], gpu_2[0], gpu_3[0]]\n",
    "task_1 = [gpu_0[1], gpu_1[1], gpu_2[1], gpu_3[1]]\n",
    "task_2 = [gpu_0[2], gpu_1[2], gpu_2[2], gpu_3[2]]\n",
    "task_3 = [gpu_0[3], gpu_1[3], gpu_2[3], gpu_3[3]]\n",
    "\n",
    "r = [0, 1, 2, 3]\n",
    "names = ['gpu_0', 'gpu_1', 'gpu_2', 'gpu_3']"
   ]
  },
  {
   "cell_type": "code",
   "execution_count": 12,
   "metadata": {},
   "outputs": [
    {
     "data": {
      "image/png": "[encoded data removed]",
      "text/plain": [
       "<Figure size 432x288 with 1 Axes>"
      ]
     },
     "metadata": {
      "needs_background": "light"
     },
     "output_type": "display_data"
    }
   ],
   "source": [
    "one_two = np.add(task_0, task_1).tolist()\n",
    "all_three = np.add(one_two, task_2).tolist()\n",
    "plt.xticks(np.arange(0, 4) , [\"GPU 0\" , \"GPU 1\", \"GPU 2\",\"GPU 3\"])\n",
    "ax1 = plt.bar(r, task_0, edgecolor='white', width=1)\n",
    "ax2 = plt.bar(r, task_1, bottom=task_0, edgecolor='white', width=1)\n",
    "ax3 = plt.bar(r, task_2, bottom=np.add(task_0, task_1).tolist(), edgecolor='white', width=1)\n",
    "ax4 = plt.bar(r, task_3, bottom=all_three, edgecolor='white', width=1)\n",
    "plt.ylabel(\"Runtime (s)\")\n",
    "plt.title(\"Four GPU  load balance\")\n",
    "\n",
    "for r1, r2, r3, r4 in zip(ax1, ax2, ax3, ax4):\n",
    "    h1 = r1.get_height()\n",
    "    h2 = r2.get_height()\n",
    "    h3 = r3.get_height()\n",
    "    h4 = r4.get_height()\n",
    "    plt.text(r1.get_x() + r1.get_width() / 2., h1 / 2., \"%s\" % (str(int(h1)) if h1 > 0 else \"\"), ha=\"center\", va=\"center\", color=\"white\", fontsize=16, fontweight=\"bold\")\n",
    "    plt.text(r2.get_x() + r2.get_width() / 2., h1 + h2 / 2., \"%s\" % (str(int(h2)) if h2 > 0 else \"\"), ha=\"center\", va=\"center\", color=\"white\", fontsize=16, fontweight=\"bold\")\n",
    "    plt.text(r2.get_x() + r2.get_width() / 2., h1 + h2 + h3 / 2., \"%s\" % (str(int(h3)) if h3 > 0 else \"\"), ha=\"center\", va=\"center\", color=\"white\", fontsize=16, fontweight=\"bold\")\n",
    "    plt.text(r2.get_x() + r2.get_width() / 2., h1 + h2 + h3 + h4 / 2., \"%s\" %  (str(int(h4)) if h4 > 0 else \"\"), ha=\"center\", va=\"center\", color=\"white\", fontsize=16, fontweight=\"bold\")\n",
    "#plt.legend(['Task 0', 'Task 1', 'Task 2', 'Task 3'], loc='upper right', ncol=2, fancybox=True, shadow=True)\n",
    "plt.savefig(\"../../Figures/four_GPU_vgg_bin_pack_number.png\", dpi=200)"
   ]
  },
  {
   "cell_type": "code",
   "execution_count": 13,
   "metadata": {},
   "outputs": [
    {
     "data": {
      "image/png": "[encoded data removed]",
      "text/plain": [
       "<Figure size 432x288 with 1 Axes>"
      ]
     },
     "metadata": {
      "needs_background": "light"
     },
     "output_type": "display_data"
    }
   ],
   "source": [
    "one_two = np.add(task_0, task_1).tolist()\n",
    "all_three = np.add(one_two, task_2).tolist()\n",
    "plt.xticks(np.arange(0, 4) , [\"GPU 0\" , \"GPU 1\", \"GPU 2\",\"GPU 3\"])\n",
    "ax1 = plt.bar(r, task_0, edgecolor='white', width=1)\n",
    "ax2 = plt.bar(r, task_1, bottom=task_0, edgecolor='white', width=1)\n",
    "ax3 = plt.bar(r, task_2, bottom=np.add(task_0, task_1).tolist(), edgecolor='white', width=1)\n",
    "ax4 = plt.bar(r, task_3, bottom=all_three, edgecolor='white', width=1)\n",
    "plt.ylabel(\"Runtime (s)\")\n",
    "plt.title(\"Four GPU  load balance\")\n",
    "\n",
    "for r1, r2, r3, r4 in zip(ax1, ax2, ax3, ax4):\n",
    "    h1 = r1.get_height()\n",
    "    h2 = r2.get_height()\n",
    "    h3 = r3.get_height()\n",
    "    h4 = r4.get_height()\n",
    "    plt.text(r1.get_x() + r1.get_width() / 2., h1 / 2., \"%s\" % (\"Task 1\" if h1 > 0 else \"\"), ha=\"center\", va=\"center\", color=\"white\", fontsize=16, fontweight=\"bold\")\n",
    "    plt.text(r2.get_x() + r2.get_width() / 2., h1 + h2 / 2., \"%s\" % (\"Task 2\" if h2 > 0 else \"\"), ha=\"center\", va=\"center\", color=\"white\", fontsize=16, fontweight=\"bold\")\n",
    "    plt.text(r2.get_x() + r2.get_width() / 2., h1 + h2 + h3 / 2., \"%s\" % (\"Task 3\" if h3 > 0 else \"\"), ha=\"center\", va=\"center\", color=\"white\", fontsize=16, fontweight=\"bold\")\n",
    "    plt.text(r2.get_x() + r2.get_width() / 2., h1 + h2 + h3 + h4 / 2., \"%s\" %  (\"Task 4\" if h4 > 0 else \"\"), ha=\"center\", va=\"center\", color=\"white\", fontsize=16, fontweight=\"bold\")\n",
    "#plt.legend(['Task 0', 'Task 1', 'Task 2', 'Task 3'], loc='upper right', ncol=2, fancybox=True, shadow=True)\n",
    "plt.savefig(\"../../Figures/four_GPU_vgg_bin_pack_task.png\", dpi=200)"
   ]
  },
  {
   "cell_type": "code",
   "execution_count": null,
   "metadata": {},
   "outputs": [],
   "source": []
  },
  {
   "cell_type": "code",
   "execution_count": 14,
   "metadata": {},
   "outputs": [
    {
     "name": "stdout",
     "output_type": "stream",
     "text": [
      "[514.5013387203217, 501.9984726905823, 501.5156292915344, 552.8625688552856] [ 514.50133872 1016.49981141 1518.0154407  2070.87800956]\n",
      "[520.6781265735626, 504.52327513694763, 505.0061264038086, 507.20139932632446] [ 520.67812657 1025.20140171 1530.20752811 2037.40892744]\n",
      "[531.4917006492615, 547.1579089164734, 504.19418144226074, 554.7989211082458] [ 531.49170065 1078.64960957 1582.84379101 2137.64271212]\n",
      "[501.5565571784973, 499.4793372154236, 506.368577003479, 513.7424523830414] [ 501.55655718 1001.03589439 1507.4044714  2021.14692378]\n"
     ]
    }
   ],
   "source": [
    "gpu_0 = [layer['run_time'] for layer in four_gpu[0:-3:4]]\n",
    "\n",
    "gpu_1 = [layer['run_time'] for layer in four_gpu[1:-3:4] ]\n",
    "\n",
    "gpu_2 = [layer['run_time'] for layer in four_gpu[2:-3:4] ]\n",
    "\n",
    "gpu_3 = [layer['run_time'] for layer in four_gpu[3:-3:4]]\n",
    "print(gpu_0, np.cumsum(gpu_0))\n",
    "print(gpu_1, np.cumsum(gpu_1))\n",
    "print(gpu_2, np.cumsum(gpu_2))\n",
    "print(gpu_3, np.cumsum(gpu_3))"
   ]
  },
  {
   "cell_type": "code",
   "execution_count": 15,
   "metadata": {},
   "outputs": [
    {
     "name": "stdout",
     "output_type": "stream",
     "text": [
      "[514.5013387203217, 501.9984726905823, 501.5156292915344, 552.8625688552856]\n",
      "[520.6781265735626, 504.52327513694763, 505.0061264038086, 507.20139932632446]\n",
      "[531.4917006492615, 547.1579089164734, 504.19418144226074, 554.7989211082458]\n",
      "[501.5565571784973, 499.4793372154236, 506.368577003479, 513.7424523830414]\n"
     ]
    }
   ],
   "source": [
    "# add zeros for stacked bar\n",
    "# chart\n",
    "# gpu_1.append(0)\n",
    "# gpu_2.append(0)\n",
    "# gpu_3.append(0)\n",
    "\n",
    "print(gpu_0)\n",
    "print(gpu_1)\n",
    "print(gpu_2)\n",
    "print(gpu_3)"
   ]
  },
  {
   "cell_type": "code",
   "execution_count": 16,
   "metadata": {},
   "outputs": [],
   "source": [
    "task_0 = [gpu_0[0], gpu_1[0], gpu_2[0], gpu_3[0]]\n",
    "task_1 = [gpu_0[1], gpu_1[1], gpu_2[1], gpu_3[1]]\n",
    "task_2 = [gpu_0[2], gpu_1[2], gpu_2[2], gpu_3[2]]\n",
    "task_3 = [gpu_0[3], gpu_1[3], gpu_2[3], gpu_3[3]]\n",
    "\n",
    "r = [0, 1, 2, 3]\n",
    "names = ['gpu_0', 'gpu_1', 'gpu_2', 'gpu_3']"
   ]
  },
  {
   "cell_type": "code",
   "execution_count": 17,
   "metadata": {},
   "outputs": [
    {
     "data": {
      "image/png": "[encoded data removed]",
      "text/plain": [
       "<Figure size 432x288 with 1 Axes>"
      ]
     },
     "metadata": {
      "needs_background": "light"
     },
     "output_type": "display_data"
    }
   ],
   "source": [
    "one_two = np.add(task_0, task_1).tolist()\n",
    "all_three = np.add(one_two, task_2).tolist()\n",
    "plt.xticks(np.arange(0, 4) , [\"GPU 0\" , \"GPU 1\", \"GPU 2\",\"GPU 3\"])\n",
    "ax1 = plt.bar(r, task_0, edgecolor='white', width=1)\n",
    "ax2 = plt.bar(r, task_1, bottom=task_0, edgecolor='white', width=1)\n",
    "ax3 = plt.bar(r, task_2, bottom=np.add(task_0, task_1).tolist(), edgecolor='white', width=1)\n",
    "ax4 = plt.bar(r, task_3, bottom=all_three, edgecolor='white', width=1)\n",
    "plt.ylabel(\"Runtime (s)\")\n",
    "plt.title(\"Four GPU  load balance\")\n",
    "\n",
    "for r1, r2, r3, r4 in zip(ax1, ax2, ax3, ax4):\n",
    "    h1 = r1.get_height()\n",
    "    h2 = r2.get_height()\n",
    "    h3 = r3.get_height()\n",
    "    h4 = r4.get_height()\n",
    "    plt.text(r1.get_x() + r1.get_width() / 2., h1 / 2., \"%s\" % (str(int(h1)) if h1 > 0 else \"\"), ha=\"center\", va=\"center\", color=\"white\", fontsize=16, fontweight=\"bold\")\n",
    "    plt.text(r2.get_x() + r2.get_width() / 2., h1 + h2 / 2., \"%s\" % (str(int(h2)) if h2 > 0 else \"\"), ha=\"center\", va=\"center\", color=\"white\", fontsize=16, fontweight=\"bold\")\n",
    "    plt.text(r2.get_x() + r2.get_width() / 2., h1 + h2 + h3 / 2., \"%s\" % (str(int(h3)) if h3 > 0 else \"\"), ha=\"center\", va=\"center\", color=\"white\", fontsize=16, fontweight=\"bold\")\n",
    "    plt.text(r2.get_x() + r2.get_width() / 2., h1 + h2 + h3 + h4 / 2., \"%s\" %  (str(int(h4)) if h4 > 0 else \"\"), ha=\"center\", va=\"center\", color=\"white\", fontsize=16, fontweight=\"bold\")\n",
    "#plt.legend(['Task 0', 'Task 1', 'Task 2', 'Task 3'], loc='upper right', ncol=2, fancybox=True, shadow=True)\n",
    "plt.savefig(\"../../Figures/four_GPU_vgg_bin_pack_number.png\", dpi=200)"
   ]
  },
  {
   "cell_type": "code",
   "execution_count": null,
   "metadata": {},
   "outputs": [],
   "source": []
  }
 ],
 "metadata": {
  "kernelspec": {
   "display_name": "Python 3",
   "language": "python",
   "name": "python3"
  },
  "language_info": {
   "codemirror_mode": {
    "name": "ipython",
    "version": 3
   },
   "file_extension": ".py",
   "mimetype": "text/x-python",
   "name": "python",
   "nbconvert_exporter": "python",
   "pygments_lexer": "ipython3",
   "version": "3.6.9"
  }
 },
 "nbformat": 4,
 "nbformat_minor": 4
}
