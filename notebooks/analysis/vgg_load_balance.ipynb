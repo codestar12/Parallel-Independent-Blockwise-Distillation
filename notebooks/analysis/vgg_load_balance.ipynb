{
 "cells": [
  {
   "cell_type": "code",
   "execution_count": 1,
   "metadata": {},
   "outputs": [
    {
     "name": "stdout",
     "output_type": "stream",
     "text": [
      "Requirement already satisfied: seaborn in /usr/local/lib/python3.6/dist-packages (0.10.1)\n",
      "Requirement already satisfied: numpy>=1.13.3 in /usr/local/lib/python3.6/dist-packages (from seaborn) (1.18.2)\n",
      "Requirement already satisfied: scipy>=1.0.1 in /usr/local/lib/python3.6/dist-packages (from seaborn) (1.4.1)\n",
      "Requirement already satisfied: matplotlib>=2.1.2 in /usr/local/lib/python3.6/dist-packages (from seaborn) (3.2.1)\n",
      "Requirement already satisfied: pandas>=0.22.0 in /usr/local/lib/python3.6/dist-packages (from seaborn) (1.0.5)\n",
      "Requirement already satisfied: cycler>=0.10 in /usr/local/lib/python3.6/dist-packages (from matplotlib>=2.1.2->seaborn) (0.10.0)\n",
      "Requirement already satisfied: pyparsing!=2.0.4,!=2.1.2,!=2.1.6,>=2.0.1 in /usr/local/lib/python3.6/dist-packages (from matplotlib>=2.1.2->seaborn) (2.4.7)\n",
      "Requirement already satisfied: python-dateutil>=2.1 in /usr/local/lib/python3.6/dist-packages (from matplotlib>=2.1.2->seaborn) (2.8.1)\n",
      "Requirement already satisfied: kiwisolver>=1.0.1 in /usr/local/lib/python3.6/dist-packages (from matplotlib>=2.1.2->seaborn) (1.2.0)\n",
      "Requirement already satisfied: pytz>=2017.2 in /usr/local/lib/python3.6/dist-packages (from pandas>=0.22.0->seaborn) (2020.1)\n",
      "Requirement already satisfied: six in /usr/local/lib/python3.6/dist-packages (from cycler>=0.10->matplotlib>=2.1.2->seaborn) (1.14.0)\n",
      "\u001b[33mWARNING: You are using pip version 20.0.2; however, version 20.1.1 is available.\n",
      "You should consider upgrading via the '/usr/bin/python3 -m pip install --upgrade pip' command.\u001b[0m\n"
     ]
    }
   ],
   "source": [
    "!pip install seaborn"
   ]
  },
  {
   "cell_type": "code",
   "execution_count": 2,
   "metadata": {},
   "outputs": [],
   "source": [
    "import json\n",
    "import numpy as np\n",
    "import matplotlib.pyplot as plt\n",
    "import seaborn as sb"
   ]
  },
  {
   "cell_type": "code",
   "execution_count": 3,
   "metadata": {},
   "outputs": [],
   "source": [
    "with open('../../timing_info/vgg/four_gpu/four_gpu_cifar10.json', 'r') as f:\n",
    "    four_gpu = json.load(f)"
   ]
  },
  {
   "cell_type": "code",
   "execution_count": 4,
   "metadata": {},
   "outputs": [],
   "source": [
    "gpu_totals = {}\n",
    "\n",
    "for layer in four_gpu[:-1:]:\n",
    "    if layer['rank'] not in gpu_totals:\n",
    "        gpu_totals[layer['rank']] = layer['run_time']\n",
    "    else:\n",
    "        gpu_totals[layer['rank']] += layer['run_time']"
   ]
  },
  {
   "cell_type": "code",
   "execution_count": 5,
   "metadata": {},
   "outputs": [
    {
     "data": {
      "text/plain": [
       "{0: 1237.9525640010834,\n",
       " 1: 1388.2332427501678,\n",
       " 2: 1000.5464253425598,\n",
       " 3: 1012.6640491485596}"
      ]
     },
     "execution_count": 5,
     "metadata": {},
     "output_type": "execute_result"
    }
   ],
   "source": [
    "gpu_totals"
   ]
  },
  {
   "cell_type": "code",
   "execution_count": null,
   "metadata": {},
   "outputs": [],
   "source": []
  },
  {
   "cell_type": "code",
   "execution_count": 6,
   "metadata": {},
   "outputs": [],
   "source": [
    "job_count = {}\n",
    "\n",
    "for layer in four_gpu[:-1:]:\n",
    "    if layer['rank'] not in job_count:\n",
    "        job_count[layer['rank']] = 1\n",
    "    else:\n",
    "        job_count[layer['rank']] += 1"
   ]
  },
  {
   "cell_type": "code",
   "execution_count": 7,
   "metadata": {},
   "outputs": [
    {
     "data": {
      "text/plain": [
       "{0: 4, 1: 3, 2: 3, 3: 3}"
      ]
     },
     "execution_count": 7,
     "metadata": {},
     "output_type": "execute_result"
    }
   ],
   "source": [
    "job_count"
   ]
  },
  {
   "cell_type": "code",
   "execution_count": 8,
   "metadata": {},
   "outputs": [
    {
     "name": "stdout",
     "output_type": "stream",
     "text": [
      "[1, 7, 12, 17]\n",
      "[ 524.52397799  809.51075935 1054.8262701  1237.952564  ]\n",
      "[2, 8, 13]\n",
      "[ 889.13782835 1183.34204817 1388.23324275]\n",
      "[4, 9, 15]\n",
      "[ 429.6344986   770.88170838 1000.54642534]\n",
      "[5, 11, 16]\n",
      "[ 527.7076571   772.24155259 1012.66404915]\n"
     ]
    }
   ],
   "source": [
    "gpu_0 = [layer['run_time'] for layer in four_gpu[:-1:] if layer['rank'] == 0]\n",
    "print([layer['layer'] for layer in four_gpu[:-1:] if layer['rank'] == 0])\n",
    "print(np.cumsum(gpu_0))\n",
    "gpu_1 = [layer['run_time'] for layer in four_gpu[:-1:] if layer['rank'] == 1]\n",
    "print([layer['layer'] for layer in four_gpu[:-1:] if layer['rank'] == 1])\n",
    "print(np.cumsum(gpu_1))\n",
    "gpu_2 = [layer['run_time'] for layer in four_gpu[:-1:] if layer['rank'] == 2]\n",
    "print([layer['layer'] for layer in four_gpu[:-1:] if layer['rank'] == 2])\n",
    "print(np.cumsum(gpu_2))\n",
    "gpu_3 = [layer['run_time'] for layer in four_gpu[:-1:] if layer['rank'] == 3]\n",
    "print([layer['layer'] for layer in four_gpu[:-1:] if layer['rank'] == 3])\n",
    "print(np.cumsum(gpu_3))"
   ]
  },
  {
   "cell_type": "markdown",
   "metadata": {},
   "source": [
    "### Alt Schedules\n",
    "\n",
    "#### Next Available\n",
    "\n",
    "##### GPU 0\n",
    "\n",
    "1, 7, 12\n",
    "\n",
    "##### GPU 1\n",
    "\n",
    "2, 8\n",
    "\n",
    "##### GPU 2\n",
    "\n",
    "4, 9, 15, 17\n",
    "\n",
    "##### GPU 3\n",
    "\n",
    "5, 11, 16, 15\n",
    "\n",
    "#### Opt change of last task\n",
    "\n",
    "##### GPU 0\n",
    "\n",
    "1, 7, 12\n",
    "\n",
    "##### GPU 1\n",
    "\n",
    "2, 8\n",
    "\n",
    "##### GPU 2\n",
    "\n",
    "4, 9, 15, 15\n",
    "\n",
    "##### GPU 3\n",
    "\n",
    "5, 11, 16, 17"
   ]
  },
  {
   "cell_type": "code",
   "execution_count": 9,
   "metadata": {},
   "outputs": [],
   "source": [
    "# add zeros for stacked bar\n",
    "# chart\n",
    "gpu_1.append(0)\n",
    "gpu_2.append(0)\n",
    "gpu_3.append(0)"
   ]
  },
  {
   "cell_type": "code",
   "execution_count": 10,
   "metadata": {},
   "outputs": [],
   "source": [
    "task_0 = [gpu_0[0], gpu_1[0], gpu_2[0], gpu_3[0]]\n",
    "task_1 = [gpu_0[1], gpu_1[1], gpu_2[1], gpu_3[1]]\n",
    "task_2 = [gpu_0[2], gpu_1[2], gpu_2[2], gpu_3[2]]\n",
    "task_3 = [gpu_0[3], gpu_1[3], gpu_2[3], gpu_3[3]]"
   ]
  },
  {
   "cell_type": "code",
   "execution_count": 11,
   "metadata": {},
   "outputs": [],
   "source": [
    "r = [0, 1, 2, 3]\n",
    "names = ['gpu_0', 'gpu_1', 'gpu_2', 'gpu_3']"
   ]
  },
  {
   "cell_type": "code",
   "execution_count": 33,
   "metadata": {},
   "outputs": [
    {
     "data": {
      "image/png": "[encoded data removed]",
      "text/plain": [
       "<Figure size 432x288 with 1 Axes>"
      ]
     },
     "metadata": {
      "needs_background": "light"
     },
     "output_type": "display_data"
    }
   ],
   "source": [
    "one_two = np.add(task_0, task_1).tolist()\n",
    "all_three = np.add(one_two, task_2).tolist()\n",
    "plt.xticks(np.arange(0, 4) , [\"GPU 0\" , \"GPU 1\", \"GPU 2\",\"GPU 3\"])\n",
    "ax1 = plt.bar(r, task_0, edgecolor='white', width=1)\n",
    "ax2 = plt.bar(r, task_1, bottom=task_0, edgecolor='white', width=1)\n",
    "ax3 = plt.bar(r, task_2, bottom=np.add(task_0, task_1).tolist(), edgecolor='white', width=1)\n",
    "ax4 = plt.bar(r, task_3, bottom=all_three, edgecolor='white', width=1)\n",
    "plt.ylabel(\"Runtime (s)\")\n",
    "plt.title(\"Four GPU  load balance\")\n",
    "\n",
    "for r1, r2, r3, r4 in zip(ax1, ax2, ax3, ax4):\n",
    "    h1 = r1.get_height()\n",
    "    h2 = r2.get_height()\n",
    "    h3 = r3.get_height()\n",
    "    h4 = r4.get_height()\n",
    "    plt.text(r1.get_x() + r1.get_width() / 2., h1 / 2., \"%s\" % (str(int(h1)) if h1 > 0 else \"\"), ha=\"center\", va=\"center\", color=\"white\", fontsize=16, fontweight=\"bold\")\n",
    "    plt.text(r2.get_x() + r2.get_width() / 2., h1 + h2 / 2., \"%s\" % (str(int(h2)) if h2 > 0 else \"\"), ha=\"center\", va=\"center\", color=\"white\", fontsize=16, fontweight=\"bold\")\n",
    "    plt.text(r2.get_x() + r2.get_width() / 2., h1 + h2 + h3 / 2., \"%s\" % (str(int(h3)) if h3 > 0 else \"\"), ha=\"center\", va=\"center\", color=\"white\", fontsize=16, fontweight=\"bold\")\n",
    "    plt.text(r2.get_x() + r2.get_width() / 2., h1 + h2 + h3 + h4 / 2., \"%s\" %  (str(int(h4)) if h4 > 0 else \"\"), ha=\"center\", va=\"center\", color=\"white\", fontsize=16, fontweight=\"bold\")\n",
    "#plt.legend(['Task 0', 'Task 1', 'Task 2', 'Task 3'], loc='upper right', ncol=2, fancybox=True, shadow=True)\n",
    "plt.savefig(\"../../Figures/four_GPU_vgg_load_balance_number.png\", dpi=200)"
   ]
  },
  {
   "cell_type": "code",
   "execution_count": 34,
   "metadata": {},
   "outputs": [
    {
     "data": {
      "image/png": "[encoded data removed]",
      "text/plain": [
       "<Figure size 432x288 with 1 Axes>"
      ]
     },
     "metadata": {
      "needs_background": "light"
     },
     "output_type": "display_data"
    }
   ],
   "source": [
    "one_two = np.add(task_0, task_1).tolist()\n",
    "all_three = np.add(one_two, task_2).tolist()\n",
    "plt.xticks(np.arange(0, 4) , [\"GPU 0\" , \"GPU 1\", \"GPU 2\",\"GPU 3\"])\n",
    "ax1 = plt.bar(r, task_0, edgecolor='white', width=1)\n",
    "ax2 = plt.bar(r, task_1, bottom=task_0, edgecolor='white', width=1)\n",
    "ax3 = plt.bar(r, task_2, bottom=np.add(task_0, task_1).tolist(), edgecolor='white', width=1)\n",
    "ax4 = plt.bar(r, task_3, bottom=all_three, edgecolor='white', width=1)\n",
    "plt.ylabel(\"Runtime (s)\")\n",
    "plt.title(\"Four GPU  load balance\")\n",
    "\n",
    "for r1, r2, r3, r4 in zip(ax1, ax2, ax3, ax4):\n",
    "    h1 = r1.get_height()\n",
    "    h2 = r2.get_height()\n",
    "    h3 = r3.get_height()\n",
    "    h4 = r4.get_height()\n",
    "    plt.text(r1.get_x() + r1.get_width() / 2., h1 / 2., \"%s\" % (\"Task 1\" if h1 > 0 else \"\"), ha=\"center\", va=\"center\", color=\"white\", fontsize=16, fontweight=\"bold\")\n",
    "    plt.text(r2.get_x() + r2.get_width() / 2., h1 + h2 / 2., \"%s\" % (\"Task 2\" if h2 > 0 else \"\"), ha=\"center\", va=\"center\", color=\"white\", fontsize=16, fontweight=\"bold\")\n",
    "    plt.text(r2.get_x() + r2.get_width() / 2., h1 + h2 + h3 / 2., \"%s\" % (\"Task 3\" if h3 > 0 else \"\"), ha=\"center\", va=\"center\", color=\"white\", fontsize=16, fontweight=\"bold\")\n",
    "    plt.text(r2.get_x() + r2.get_width() / 2., h1 + h2 + h3 + h4 / 2., \"%s\" %  (\"Task 4\" if h4 > 0 else \"\"), ha=\"center\", va=\"center\", color=\"white\", fontsize=16, fontweight=\"bold\")\n",
    "#plt.legend(['Task 0', 'Task 1', 'Task 2', 'Task 3'], loc='upper right', ncol=2, fancybox=True, shadow=True)\n",
    "plt.savefig(\"../../Figures/four_GPU_vgg_load_balance_task.png\", dpi=200)"
   ]
  },
  {
   "cell_type": "code",
   "execution_count": 13,
   "metadata": {},
   "outputs": [
    {
     "ename": "FileNotFoundError",
     "evalue": "[Errno 2] No such file or directory: '../timing_info/vgg/three_gpu/three_gpu_cifar10.json'",
     "output_type": "error",
     "traceback": [
      "\u001b[0;31m---------------------------------------------------------------------------\u001b[0m",
      "\u001b[0;31mFileNotFoundError\u001b[0m                         Traceback (most recent call last)",
      "\u001b[0;32m<ipython-input-13-97eb5c6f37db>\u001b[0m in \u001b[0;36m<module>\u001b[0;34m\u001b[0m\n\u001b[0;32m----> 1\u001b[0;31m \u001b[0;32mwith\u001b[0m \u001b[0mopen\u001b[0m\u001b[0;34m(\u001b[0m\u001b[0;34m'../timing_info/vgg/three_gpu/three_gpu_cifar10.json'\u001b[0m\u001b[0;34m,\u001b[0m \u001b[0;34m'r'\u001b[0m\u001b[0;34m)\u001b[0m \u001b[0;32mas\u001b[0m \u001b[0mf\u001b[0m\u001b[0;34m:\u001b[0m\u001b[0;34m\u001b[0m\u001b[0;34m\u001b[0m\u001b[0m\n\u001b[0m\u001b[1;32m      2\u001b[0m     \u001b[0mthree_gpu_es\u001b[0m \u001b[0;34m=\u001b[0m \u001b[0mjson\u001b[0m\u001b[0;34m.\u001b[0m\u001b[0mload\u001b[0m\u001b[0;34m(\u001b[0m\u001b[0mf\u001b[0m\u001b[0;34m)\u001b[0m\u001b[0;34m\u001b[0m\u001b[0;34m\u001b[0m\u001b[0m\n",
      "\u001b[0;31mFileNotFoundError\u001b[0m: [Errno 2] No such file or directory: '../timing_info/vgg/three_gpu/three_gpu_cifar10.json'"
     ]
    }
   ],
   "source": [
    "with open('../timing_info/vgg/three_gpu/three_gpu_cifar10.json', 'r') as f:\n",
    "    three_gpu_es = json.load(f)"
   ]
  },
  {
   "cell_type": "code",
   "execution_count": null,
   "metadata": {},
   "outputs": [],
   "source": [
    "three_gpu_totals = {}\n",
    "\n",
    "for layer in three_gpu_es[0:-1:]:\n",
    "    print(layer)\n",
    "    if layer['rank'] not in three_gpu_totals:\n",
    "        three_gpu_totals[layer['rank']] = layer['run_time']\n",
    "    else:\n",
    "        three_gpu_totals[layer['rank']] += layer['run_time']"
   ]
  },
  {
   "cell_type": "code",
   "execution_count": null,
   "metadata": {},
   "outputs": [],
   "source": [
    "three_gpu_totals"
   ]
  },
  {
   "cell_type": "code",
   "execution_count": null,
   "metadata": {},
   "outputs": [],
   "source": [
    "gpu_0 = [layer['run_time'] for layer in three_gpu_es[:-1:] if layer['rank'] == 0]\n",
    "print([layer['layer'] for layer in three_gpu_es[:-1:] if layer['rank'] == 0])\n",
    "print(np.cumsum(gpu_0))\n",
    "gpu_1 = [layer['run_time'] for layer in three_gpu_es[:-1:] if layer['rank'] == 1]\n",
    "print([layer['layer'] for layer in three_gpu_es[:-1:] if layer['rank'] == 1])\n",
    "print(np.cumsum(gpu_1))\n",
    "gpu_2 = [layer['run_time'] for layer in three_gpu_es[:-1:] if layer['rank'] == 2]\n",
    "print([layer['layer'] for layer in three_gpu_es[:-1:] if layer['rank'] == 1])\n",
    "print(np.cumsum(gpu_2))"
   ]
  },
  {
   "cell_type": "code",
   "execution_count": null,
   "metadata": {},
   "outputs": [],
   "source": [
    "gpu_1.append(0)\n",
    "gpu_2.append(0)"
   ]
  },
  {
   "cell_type": "code",
   "execution_count": null,
   "metadata": {},
   "outputs": [],
   "source": [
    "task_0 = [gpu_0[0], gpu_1[0], gpu_2[0]]\n",
    "task_1 = [gpu_0[1], gpu_1[1], gpu_2[1]]\n",
    "task_2 = [gpu_0[2], gpu_1[2], gpu_2[2]]\n",
    "task_3 = [gpu_0[3], gpu_1[3], gpu_2[3]]\n",
    "task_4 = [gpu_0[4], gpu_1[4], gpu_2[4]]"
   ]
  },
  {
   "cell_type": "code",
   "execution_count": null,
   "metadata": {},
   "outputs": [],
   "source": [
    "r = [0, 1, 2]\n",
    "names = ['gpu_0', 'gpu_1', 'gpu_2']"
   ]
  },
  {
   "cell_type": "code",
   "execution_count": null,
   "metadata": {},
   "outputs": [],
   "source": [
    "one_two = np.add(task_0, task_1).tolist()\n",
    "all_three = np.add(one_two, task_2).tolist()\n",
    "all_four = np.add(all_three, task_3).tolist()\n",
    "plt.xticks(np.arange(0, 3) , [\"GPU 0\" , \"GPU 1\", \"GPU 2\"])\n",
    "plt.ylabel(\"Runtime (s)\")\n",
    "plt.title(\"Three GPU load balance\")\n",
    "plt.bar(r, task_0, edgecolor='white', width=1)\n",
    "plt.bar(r, task_1, bottom=task_0, edgecolor='white', width=1)\n",
    "plt.bar(r, task_2, bottom=np.add(task_0, task_1).tolist(), edgecolor='white', width=1)\n",
    "plt.bar(r, task_3, bottom=all_three, edgecolor='white', width=1)\n",
    "plt.bar(r, task_4, bottom=all_four, edgecolor='white', width=1)\n",
    "\n",
    "plt.legend(['Task 0', 'Task 1', 'Task 2', 'Task 3', 'Task 4'], loc='upper right', bbox_to_anchor=(.95, 1.05), ncol=1, fancybox=True, shadow=True)\n",
    "plt.savefig(\"../Figures/three_GPU_vgg_load_balance.png\", dpi=200)"
   ]
  },
  {
   "cell_type": "code",
   "execution_count": null,
   "metadata": {},
   "outputs": [],
   "source": []
  },
  {
   "cell_type": "code",
   "execution_count": null,
   "metadata": {},
   "outputs": [],
   "source": []
  }
 ],
 "metadata": {
  "kernelspec": {
   "display_name": "Python 3",
   "language": "python",
   "name": "python3"
  },
  "language_info": {
   "codemirror_mode": {
    "name": "ipython",
    "version": 3
   },
   "file_extension": ".py",
   "mimetype": "text/x-python",
   "name": "python",
   "nbconvert_exporter": "python",
   "pygments_lexer": "ipython3",
   "version": "3.6.9"
  }
 },
 "nbformat": 4,
 "nbformat_minor": 4
}
