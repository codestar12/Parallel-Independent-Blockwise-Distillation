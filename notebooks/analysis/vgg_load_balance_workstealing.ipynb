{
 "cells": [
  {
   "cell_type": "code",
   "execution_count": 1,
   "metadata": {},
   "outputs": [
    {
     "name": "stdout",
     "output_type": "stream",
     "text": [
      "Requirement already satisfied: seaborn in /usr/local/lib/python3.6/dist-packages (0.10.1)\n",
      "Requirement already satisfied: numpy>=1.13.3 in /usr/local/lib/python3.6/dist-packages (from seaborn) (1.18.5)\n",
      "Requirement already satisfied: matplotlib>=2.1.2 in /usr/local/lib/python3.6/dist-packages (from seaborn) (3.3.0)\n",
      "Requirement already satisfied: pandas>=0.22.0 in /usr/local/lib/python3.6/dist-packages (from seaborn) (1.1.1)\n",
      "Requirement already satisfied: scipy>=1.0.1 in /usr/local/lib/python3.6/dist-packages (from seaborn) (1.4.1)\n",
      "Requirement already satisfied: pillow>=6.2.0 in /usr/local/lib/python3.6/dist-packages (from matplotlib>=2.1.2->seaborn) (7.2.0)\n",
      "Requirement already satisfied: pyparsing!=2.0.4,!=2.1.2,!=2.1.6,>=2.0.3 in /usr/local/lib/python3.6/dist-packages (from matplotlib>=2.1.2->seaborn) (2.4.7)\n",
      "Requirement already satisfied: python-dateutil>=2.1 in /usr/local/lib/python3.6/dist-packages (from matplotlib>=2.1.2->seaborn) (2.8.1)\n",
      "Requirement already satisfied: cycler>=0.10 in /usr/local/lib/python3.6/dist-packages (from matplotlib>=2.1.2->seaborn) (0.10.0)\n",
      "Requirement already satisfied: kiwisolver>=1.0.1 in /usr/local/lib/python3.6/dist-packages (from matplotlib>=2.1.2->seaborn) (1.2.0)\n",
      "Requirement already satisfied: pytz>=2017.2 in /usr/local/lib/python3.6/dist-packages (from pandas>=0.22.0->seaborn) (2020.1)\n",
      "Requirement already satisfied: six>=1.5 in /usr/local/lib/python3.6/dist-packages (from python-dateutil>=2.1->matplotlib>=2.1.2->seaborn) (1.15.0)\n",
      "\u001b[33mWARNING: You are using pip version 20.1.1; however, version 20.2.2 is available.\n",
      "You should consider upgrading via the '/usr/bin/python3 -m pip install --upgrade pip' command.\u001b[0m\n"
     ]
    }
   ],
   "source": [
    "!pip install seaborn"
   ]
  },
  {
   "cell_type": "code",
   "execution_count": 2,
   "metadata": {},
   "outputs": [],
   "source": [
    "import json\n",
    "import numpy as np\n",
    "import matplotlib.pyplot as plt\n",
    "import seaborn as sb"
   ]
  },
  {
   "cell_type": "code",
   "execution_count": 14,
   "metadata": {},
   "outputs": [],
   "source": [
    "with open('../../timing_info/dask/four_gpu/vgg.json', 'r') as f:\n",
    "    four_gpu = json.load(f)"
   ]
  },
  {
   "cell_type": "code",
   "execution_count": 15,
   "metadata": {},
   "outputs": [
    {
     "data": {
      "text/plain": [
       "[{'name': 'block1_conv1',\n",
       "  'layer': 1,\n",
       "  'run_time': 564.9414188861847,\n",
       "  'rank': 'worker1',\n",
       "  'replaced': True,\n",
       "  'score': [0.6235640645027161, 0.8662999868392944]},\n",
       " {'name': 'block1_conv2',\n",
       "  'layer': 2,\n",
       "  'run_time': 902.4957082271576,\n",
       "  'rank': 'worker',\n",
       "  'replaced': True,\n",
       "  'score': [0.6360206604003906, 0.8650000095367432]},\n",
       " {'name': 'block2_conv1',\n",
       "  'layer': 4,\n",
       "  'run_time': 408.57324743270874,\n",
       "  'rank': 'worker',\n",
       "  'replaced': True,\n",
       "  'score': [0.6565162539482117, 0.8378999829292297]},\n",
       " {'name': 'block2_conv2',\n",
       "  'layer': 5,\n",
       "  'run_time': 578.7300221920013,\n",
       "  'rank': 'worker1',\n",
       "  'replaced': False,\n",
       "  'score': [2.449300527572632, 0.10000000149011612]},\n",
       " {'name': 'block3_conv1',\n",
       "  'layer': 7,\n",
       "  'run_time': 260.423921585083,\n",
       "  'rank': 'worker1',\n",
       "  'replaced': False,\n",
       "  'score': [2.4521284103393555, 0.10000000149011612]},\n",
       " {'name': 'block3_conv2',\n",
       "  'layer': 8,\n",
       "  'run_time': 320.4235100746155,\n",
       "  'rank': 'worker',\n",
       "  'replaced': False,\n",
       "  'score': [2.4518179893493652, 0.10000000149011612]},\n",
       " {'name': 'block3_conv3',\n",
       "  'layer': 9,\n",
       "  'run_time': 353.75550627708435,\n",
       "  'rank': 'worker1',\n",
       "  'replaced': False,\n",
       "  'score': [2.4509124755859375, 0.10000000149011612]},\n",
       " {'name': 'block4_conv1',\n",
       "  'layer': 11,\n",
       "  'run_time': 164.77344393730164,\n",
       "  'rank': 'worker',\n",
       "  'replaced': False,\n",
       "  'score': [2.4479012489318848, 0.10000000149011612]},\n",
       " {'name': 'block4_conv2',\n",
       "  'layer': 12,\n",
       "  'run_time': 181.90833497047424,\n",
       "  'rank': 'worker',\n",
       "  'replaced': False,\n",
       "  'score': [2.446442127227783, 0.10000000149011612]},\n",
       " {'name': 'block4_conv3',\n",
       "  'layer': 13,\n",
       "  'run_time': 184.98460459709167,\n",
       "  'rank': 'worker',\n",
       "  'replaced': False,\n",
       "  'score': [2.433767557144165, 0.10000000149011612]},\n",
       " {'name': 'block5_conv1',\n",
       "  'layer': 15,\n",
       "  'run_time': 146.27404928207397,\n",
       "  'rank': 'worker1',\n",
       "  'replaced': False,\n",
       "  'score': [2.4064829349517822, 0.10000000149011612]},\n",
       " {'name': 'block5_conv2',\n",
       "  'layer': 16,\n",
       "  'run_time': 145.08822178840637,\n",
       "  'rank': 'worker',\n",
       "  'replaced': False,\n",
       "  'score': [2.3862528800964355, 0.10000000149011612]},\n",
       " {'name': 'block5_conv3',\n",
       "  'layer': 17,\n",
       "  'run_time': 147.95862221717834,\n",
       "  'rank': 'worker',\n",
       "  'replaced': False,\n",
       "  'score': [2.344719886779785, 0.10000000149011612]},\n",
       " {'total_time': 2456.5912384986877},\n",
       " {'final_acc': 0.8277999758720398},\n",
       " {'fine_tune_acc': 0.8665000200271606}]"
      ]
     },
     "execution_count": 15,
     "metadata": {},
     "output_type": "execute_result"
    }
   ],
   "source": [
    "four_gpu"
   ]
  },
  {
   "cell_type": "code",
   "execution_count": 16,
   "metadata": {},
   "outputs": [],
   "source": [
    "gpu_totals = {}\n",
    "\n",
    "for layer in four_gpu[:-3:]:\n",
    "    if layer['rank'] not in gpu_totals:\n",
    "        gpu_totals[layer['rank']] = layer['run_time']\n",
    "    else:\n",
    "        gpu_totals[layer['rank']] += layer['run_time']"
   ]
  },
  {
   "cell_type": "code",
   "execution_count": 17,
   "metadata": {},
   "outputs": [
    {
     "data": {
      "text/plain": [
       "{'worker1': 1904.1249182224274, 'worker': 2456.205693244934}"
      ]
     },
     "execution_count": 17,
     "metadata": {},
     "output_type": "execute_result"
    }
   ],
   "source": [
    "gpu_totals"
   ]
  },
  {
   "cell_type": "code",
   "execution_count": null,
   "metadata": {},
   "outputs": [],
   "source": []
  },
  {
   "cell_type": "code",
   "execution_count": 18,
   "metadata": {},
   "outputs": [],
   "source": [
    "job_count = {}\n",
    "\n",
    "for layer in four_gpu[:-3:]:\n",
    "    if layer['rank'] not in job_count:\n",
    "        job_count[layer['rank']] = 1\n",
    "    else:\n",
    "        job_count[layer['rank']] += 1"
   ]
  },
  {
   "cell_type": "code",
   "execution_count": 8,
   "metadata": {},
   "outputs": [
    {
     "data": {
      "text/plain": [
       "{'worker1': 2, 'worker3': 4, 'worker': 3, 'worker2': 4}"
      ]
     },
     "execution_count": 8,
     "metadata": {},
     "output_type": "execute_result"
    }
   ],
   "source": [
    "job_count"
   ]
  },
  {
   "cell_type": "code",
   "execution_count": 9,
   "metadata": {},
   "outputs": [
    {
     "name": "stdout",
     "output_type": "stream",
     "text": [
      "[530.9945323467255, 164.45472645759583, 183.28443479537964] [530.99453235 695.4492588  878.7336936 ]\n",
      "[564.365113735199, 992.3275337219238] [ 564.36511374 1556.69264746]\n",
      "[252.91347289085388, 330.9246654510498, 206.12243175506592, 151.73862481117249] [252.91347289 583.83813834 789.9605701  941.69919491]\n",
      "[430.489572763443, 319.60862493515015, 149.08176517486572, 148.94460320472717] [ 430.48957276  750.0981977   899.17996287 1048.12456608]\n"
     ]
    }
   ],
   "source": [
    "gpu_0 = [layer['run_time'] for layer in four_gpu[:-3:] if layer['rank'] == \"worker\"]\n",
    "\n",
    "gpu_1 = [layer['run_time'] for layer in four_gpu[:-3:] if layer['rank'] == \"worker1\"]\n",
    "\n",
    "gpu_2 = [layer['run_time'] for layer in four_gpu[:-3:] if layer['rank'] == \"worker2\"]\n",
    "\n",
    "gpu_3 = [layer['run_time'] for layer in four_gpu[:-3:] if layer['rank'] == \"worker3\"]\n",
    "print(gpu_0, np.cumsum(gpu_0))\n",
    "print(gpu_1, np.cumsum(gpu_1))\n",
    "print(gpu_2, np.cumsum(gpu_2))\n",
    "print(gpu_3, np.cumsum(gpu_3))"
   ]
  },
  {
   "cell_type": "code",
   "execution_count": 10,
   "metadata": {},
   "outputs": [
    {
     "name": "stdout",
     "output_type": "stream",
     "text": [
      "[530.9945323467255, 164.45472645759583, 183.28443479537964, 0]\n",
      "[564.365113735199, 992.3275337219238, 0, 0]\n",
      "[252.91347289085388, 330.9246654510498, 206.12243175506592, 151.73862481117249]\n",
      "[430.489572763443, 319.60862493515015, 149.08176517486572, 148.94460320472717]\n"
     ]
    }
   ],
   "source": [
    "# add zeros for stacked bar\n",
    "# chart\n",
    "gpu_0.append(0)\n",
    "gpu_1.append(0)\n",
    "gpu_1.append(0)\n",
    "\n",
    "print(gpu_0)\n",
    "print(gpu_1)\n",
    "print(gpu_2)\n",
    "print(gpu_3)"
   ]
  },
  {
   "cell_type": "code",
   "execution_count": 11,
   "metadata": {},
   "outputs": [],
   "source": [
    "task_0 = [gpu_0[0], gpu_1[0], gpu_2[0], gpu_3[0]]\n",
    "task_1 = [gpu_0[1], gpu_1[1], gpu_2[1], gpu_3[1]]\n",
    "task_2 = [gpu_0[2], gpu_1[2], gpu_2[2], gpu_3[2]]\n",
    "task_3 = [gpu_0[3], gpu_1[3], gpu_2[3], gpu_3[3]]\n",
    "\n",
    "r = [0, 1, 2, 3]\n",
    "names = ['gpu_0', 'gpu_1', 'gpu_2', 'gpu_3']"
   ]
  },
  {
   "cell_type": "code",
   "execution_count": 12,
   "metadata": {},
   "outputs": [
    {
     "data": {
      "image/png": "[encoded data removed]",
      "text/plain": [
       "<Figure size 432x288 with 1 Axes>"
      ]
     },
     "metadata": {
      "needs_background": "light"
     },
     "output_type": "display_data"
    }
   ],
   "source": [
    "one_two = np.add(task_0, task_1).tolist()\n",
    "all_three = np.add(one_two, task_2).tolist()\n",
    "plt.xticks(np.arange(0, 4) , [\"GPU 0\" , \"GPU 1\", \"GPU 2\",\"GPU 3\"])\n",
    "ax1 = plt.bar(r, task_0, edgecolor='white', width=1)\n",
    "ax2 = plt.bar(r, task_1, bottom=task_0, edgecolor='white', width=1)\n",
    "ax3 = plt.bar(r, task_2, bottom=np.add(task_0, task_1).tolist(), edgecolor='white', width=1)\n",
    "ax4 = plt.bar(r, task_3, bottom=all_three, edgecolor='white', width=1)\n",
    "plt.ylabel(\"Runtime (s)\")\n",
    "plt.title(\"Four GPU  load balance\")\n",
    "\n",
    "for r1, r2, r3, r4 in zip(ax1, ax2, ax3, ax4):\n",
    "    h1 = r1.get_height()\n",
    "    h2 = r2.get_height()\n",
    "    h3 = r3.get_height()\n",
    "    h4 = r4.get_height()\n",
    "    plt.text(r1.get_x() + r1.get_width() / 2., h1 / 2., \"%s\" % (str(int(h1)) if h1 > 0 else \"\"), ha=\"center\", va=\"center\", color=\"white\", fontsize=16, fontweight=\"bold\")\n",
    "    plt.text(r2.get_x() + r2.get_width() / 2., h1 + h2 / 2., \"%s\" % (str(int(h2)) if h2 > 0 else \"\"), ha=\"center\", va=\"center\", color=\"white\", fontsize=16, fontweight=\"bold\")\n",
    "    plt.text(r2.get_x() + r2.get_width() / 2., h1 + h2 + h3 / 2., \"%s\" % (str(int(h3)) if h3 > 0 else \"\"), ha=\"center\", va=\"center\", color=\"white\", fontsize=16, fontweight=\"bold\")\n",
    "    plt.text(r2.get_x() + r2.get_width() / 2., h1 + h2 + h3 + h4 / 2., \"%s\" %  (str(int(h4)) if h4 > 0 else \"\"), ha=\"center\", va=\"center\", color=\"white\", fontsize=16, fontweight=\"bold\")\n",
    "#plt.legend(['Task 0', 'Task 1', 'Task 2', 'Task 3'], loc='upper right', ncol=2, fancybox=True, shadow=True)\n",
    "plt.savefig(\"../../Figures/four_GPU_vgg_bin_pack_number.png\", dpi=200)"
   ]
  },
  {
   "cell_type": "code",
   "execution_count": 27,
   "metadata": {},
   "outputs": [
    {
     "data": {
      "image/png": "[encoded data removed]",
      "text/plain": [
       "<Figure size 432x288 with 1 Axes>"
      ]
     },
     "metadata": {
      "needs_background": "light"
     },
     "output_type": "display_data"
    }
   ],
   "source": [
    "one_two = np.add(task_0, task_1).tolist()\n",
    "all_three = np.add(one_two, task_2).tolist()\n",
    "plt.xticks(np.arange(0, 4) , [\"GPU 0\" , \"GPU 1\", \"GPU 2\",\"GPU 3\"])\n",
    "ax1 = plt.bar(r, task_0, edgecolor='white', width=1)\n",
    "ax2 = plt.bar(r, task_1, bottom=task_0, edgecolor='white', width=1)\n",
    "ax3 = plt.bar(r, task_2, bottom=np.add(task_0, task_1).tolist(), edgecolor='white', width=1)\n",
    "ax4 = plt.bar(r, task_3, bottom=all_three, edgecolor='white', width=1)\n",
    "plt.ylabel(\"Runtime (s)\")\n",
    "plt.title(\"Four GPU  load balance\")\n",
    "\n",
    "for r1, r2, r3, r4 in zip(ax1, ax2, ax3, ax4):\n",
    "    h1 = r1.get_height()\n",
    "    h2 = r2.get_height()\n",
    "    h3 = r3.get_height()\n",
    "    h4 = r4.get_height()\n",
    "    plt.text(r1.get_x() + r1.get_width() / 2., h1 / 2., \"%s\" % (\"Task 1\" if h1 > 0 else \"\"), ha=\"center\", va=\"center\", color=\"white\", fontsize=16, fontweight=\"bold\")\n",
    "    plt.text(r2.get_x() + r2.get_width() / 2., h1 + h2 / 2., \"%s\" % (\"Task 2\" if h2 > 0 else \"\"), ha=\"center\", va=\"center\", color=\"white\", fontsize=16, fontweight=\"bold\")\n",
    "    plt.text(r2.get_x() + r2.get_width() / 2., h1 + h2 + h3 / 2., \"%s\" % (\"Task 3\" if h3 > 0 else \"\"), ha=\"center\", va=\"center\", color=\"white\", fontsize=16, fontweight=\"bold\")\n",
    "    plt.text(r2.get_x() + r2.get_width() / 2., h1 + h2 + h3 + h4 / 2., \"%s\" %  (\"Task 4\" if h4 > 0 else \"\"), ha=\"center\", va=\"center\", color=\"white\", fontsize=16, fontweight=\"bold\")\n",
    "#plt.legend(['Task 0', 'Task 1', 'Task 2', 'Task 3'], loc='upper right', ncol=2, fancybox=True, shadow=True)\n",
    "plt.savefig(\"../../Figures/four_GPU_vgg_bin_pack_task.png\", dpi=200)"
   ]
  },
  {
   "cell_type": "code",
   "execution_count": null,
   "metadata": {},
   "outputs": [],
   "source": []
  },
  {
   "cell_type": "code",
   "execution_count": 13,
   "metadata": {},
   "outputs": [
    {
     "name": "stdout",
     "output_type": "stream",
     "text": [
      "[564.365113735199, 252.91347289085388, 183.28443479537964, 151.73862481117249] [ 564.36511374  817.27858663 1000.56302142 1152.30164623]\n",
      "[992.3275337219238, 319.60862493515015, 206.12243175506592] [ 992.32753372 1311.93615866 1518.05859041]\n",
      "[430.489572763443, 330.9246654510498, 149.08176517486572] [430.48957276 761.41423821 910.49600339]\n",
      "[530.9945323467255, 164.45472645759583, 148.94460320472717] [530.99453235 695.4492588  844.39386201]\n"
     ]
    }
   ],
   "source": [
    "gpu_0 = [layer['run_time'] for layer in four_gpu[0:-3:4]]\n",
    "\n",
    "gpu_1 = [layer['run_time'] for layer in four_gpu[1:-3:4] ]\n",
    "\n",
    "gpu_2 = [layer['run_time'] for layer in four_gpu[2:-3:4] ]\n",
    "\n",
    "gpu_3 = [layer['run_time'] for layer in four_gpu[3:-3:4]]\n",
    "print(gpu_0, np.cumsum(gpu_0))\n",
    "print(gpu_1, np.cumsum(gpu_1))\n",
    "print(gpu_2, np.cumsum(gpu_2))\n",
    "print(gpu_3, np.cumsum(gpu_3))"
   ]
  },
  {
   "cell_type": "code",
   "execution_count": 29,
   "metadata": {},
   "outputs": [
    {
     "name": "stdout",
     "output_type": "stream",
     "text": [
      "[564.365113735199, 252.91347289085388, 183.28443479537964, 151.73862481117249]\n",
      "[992.3275337219238, 319.60862493515015, 206.12243175506592, 0]\n",
      "[430.489572763443, 330.9246654510498, 149.08176517486572, 0]\n",
      "[530.9945323467255, 164.45472645759583, 148.94460320472717, 0]\n"
     ]
    }
   ],
   "source": [
    "# add zeros for stacked bar\n",
    "# chart\n",
    "gpu_1.append(0)\n",
    "gpu_2.append(0)\n",
    "gpu_3.append(0)\n",
    "\n",
    "print(gpu_0)\n",
    "print(gpu_1)\n",
    "print(gpu_2)\n",
    "print(gpu_3)"
   ]
  },
  {
   "cell_type": "code",
   "execution_count": 30,
   "metadata": {},
   "outputs": [],
   "source": [
    "task_0 = [gpu_0[0], gpu_1[0], gpu_2[0], gpu_3[0]]\n",
    "task_1 = [gpu_0[1], gpu_1[1], gpu_2[1], gpu_3[1]]\n",
    "task_2 = [gpu_0[2], gpu_1[2], gpu_2[2], gpu_3[2]]\n",
    "task_3 = [gpu_0[3], gpu_1[3], gpu_2[3], gpu_3[3]]\n",
    "\n",
    "r = [0, 1, 2, 3]\n",
    "names = ['gpu_0', 'gpu_1', 'gpu_2', 'gpu_3']"
   ]
  },
  {
   "cell_type": "code",
   "execution_count": 31,
   "metadata": {},
   "outputs": [
    {
     "data": {
      "image/png": "[encoded data removed]",
      "text/plain": [
       "<Figure size 432x288 with 1 Axes>"
      ]
     },
     "metadata": {
      "needs_background": "light"
     },
     "output_type": "display_data"
    }
   ],
   "source": [
    "one_two = np.add(task_0, task_1).tolist()\n",
    "all_three = np.add(one_two, task_2).tolist()\n",
    "plt.xticks(np.arange(0, 4) , [\"GPU 0\" , \"GPU 1\", \"GPU 2\",\"GPU 3\"])\n",
    "ax1 = plt.bar(r, task_0, edgecolor='white', width=1)\n",
    "ax2 = plt.bar(r, task_1, bottom=task_0, edgecolor='white', width=1)\n",
    "ax3 = plt.bar(r, task_2, bottom=np.add(task_0, task_1).tolist(), edgecolor='white', width=1)\n",
    "ax4 = plt.bar(r, task_3, bottom=all_three, edgecolor='white', width=1)\n",
    "plt.ylabel(\"Runtime (s)\")\n",
    "plt.title(\"Four GPU  load balance\")\n",
    "\n",
    "for r1, r2, r3, r4 in zip(ax1, ax2, ax3, ax4):\n",
    "    h1 = r1.get_height()\n",
    "    h2 = r2.get_height()\n",
    "    h3 = r3.get_height()\n",
    "    h4 = r4.get_height()\n",
    "    plt.text(r1.get_x() + r1.get_width() / 2., h1 / 2., \"%s\" % (str(int(h1)) if h1 > 0 else \"\"), ha=\"center\", va=\"center\", color=\"white\", fontsize=16, fontweight=\"bold\")\n",
    "    plt.text(r2.get_x() + r2.get_width() / 2., h1 + h2 / 2., \"%s\" % (str(int(h2)) if h2 > 0 else \"\"), ha=\"center\", va=\"center\", color=\"white\", fontsize=16, fontweight=\"bold\")\n",
    "    plt.text(r2.get_x() + r2.get_width() / 2., h1 + h2 + h3 / 2., \"%s\" % (str(int(h3)) if h3 > 0 else \"\"), ha=\"center\", va=\"center\", color=\"white\", fontsize=16, fontweight=\"bold\")\n",
    "    plt.text(r2.get_x() + r2.get_width() / 2., h1 + h2 + h3 + h4 / 2., \"%s\" %  (str(int(h4)) if h4 > 0 else \"\"), ha=\"center\", va=\"center\", color=\"white\", fontsize=16, fontweight=\"bold\")\n",
    "#plt.legend(['Task 0', 'Task 1', 'Task 2', 'Task 3'], loc='upper right', ncol=2, fancybox=True, shadow=True)\n",
    "plt.savefig(\"../../Figures/four_GPU_vgg_bin_pack_number.png\", dpi=200)"
   ]
  },
  {
   "cell_type": "code",
   "execution_count": null,
   "metadata": {},
   "outputs": [],
   "source": []
  }
 ],
 "metadata": {
  "kernelspec": {
   "display_name": "Python 3",
   "language": "python",
   "name": "python3"
  },
  "language_info": {
   "codemirror_mode": {
    "name": "ipython",
    "version": 3
   },
   "file_extension": ".py",
   "mimetype": "text/x-python",
   "name": "python",
   "nbconvert_exporter": "python",
   "pygments_lexer": "ipython3",
   "version": "3.6.9"
  }
 },
 "nbformat": 4,
 "nbformat_minor": 4
}
