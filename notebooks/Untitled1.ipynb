{
 "cells": [
  {
   "cell_type": "code",
   "execution_count": 1,
   "metadata": {},
   "outputs": [
    {
     "name": "stdout",
     "output_type": "stream",
     "text": [
      "Requirement already satisfied: seaborn in /usr/local/lib/python3.6/dist-packages (0.10.1)\n",
      "Requirement already satisfied: numpy>=1.13.3 in /usr/local/lib/python3.6/dist-packages (from seaborn) (1.18.2)\n",
      "Requirement already satisfied: matplotlib>=2.1.2 in /usr/local/lib/python3.6/dist-packages (from seaborn) (3.2.1)\n",
      "Requirement already satisfied: pandas>=0.22.0 in /usr/local/lib/python3.6/dist-packages (from seaborn) (1.0.4)\n",
      "Requirement already satisfied: scipy>=1.0.1 in /usr/local/lib/python3.6/dist-packages (from seaborn) (1.4.1)\n",
      "Requirement already satisfied: cycler>=0.10 in /usr/local/lib/python3.6/dist-packages (from matplotlib>=2.1.2->seaborn) (0.10.0)\n",
      "Requirement already satisfied: pyparsing!=2.0.4,!=2.1.2,!=2.1.6,>=2.0.1 in /usr/local/lib/python3.6/dist-packages (from matplotlib>=2.1.2->seaborn) (2.4.7)\n",
      "Requirement already satisfied: kiwisolver>=1.0.1 in /usr/local/lib/python3.6/dist-packages (from matplotlib>=2.1.2->seaborn) (1.2.0)\n",
      "Requirement already satisfied: python-dateutil>=2.1 in /usr/local/lib/python3.6/dist-packages (from matplotlib>=2.1.2->seaborn) (2.8.1)\n",
      "Requirement already satisfied: pytz>=2017.2 in /usr/local/lib/python3.6/dist-packages (from pandas>=0.22.0->seaborn) (2020.1)\n",
      "Requirement already satisfied: six in /usr/local/lib/python3.6/dist-packages (from cycler>=0.10->matplotlib>=2.1.2->seaborn) (1.14.0)\n",
      "\u001b[33mWARNING: You are using pip version 20.0.2; however, version 20.1.1 is available.\n",
      "You should consider upgrading via the '/usr/bin/python3 -m pip install --upgrade pip' command.\u001b[0m\n"
     ]
    }
   ],
   "source": [
    "!pip install seaborn"
   ]
  },
  {
   "cell_type": "code",
   "execution_count": 2,
   "metadata": {},
   "outputs": [],
   "source": [
    "import json\n",
    "import numpy as np\n",
    "import matplotlib.pyplot as plt\n",
    "import seaborn as sb"
   ]
  },
  {
   "cell_type": "code",
   "execution_count": 3,
   "metadata": {},
   "outputs": [],
   "source": [
    "with open('four_gpu_cifar10.json', 'r') as f:\n",
    "    four_gpu = json.load(f)"
   ]
  },
  {
   "cell_type": "code",
   "execution_count": 4,
   "metadata": {},
   "outputs": [
    {
     "data": {
      "text/plain": [
       "[{'name': 'block1_conv1',\n",
       "  'layer': 1,\n",
       "  'run_time': 524.5239779949188,\n",
       "  'rank': 0},\n",
       " {'name': 'block1_conv2',\n",
       "  'layer': 2,\n",
       "  'run_time': 889.1378283500671,\n",
       "  'rank': 1},\n",
       " {'name': 'block2_conv1',\n",
       "  'layer': 4,\n",
       "  'run_time': 429.6344985961914,\n",
       "  'rank': 2},\n",
       " {'name': 'block2_conv2',\n",
       "  'layer': 5,\n",
       "  'run_time': 527.7076570987701,\n",
       "  'rank': 3},\n",
       " {'name': 'block3_conv1',\n",
       "  'layer': 7,\n",
       "  'run_time': 284.9867813587189,\n",
       "  'rank': 0},\n",
       " {'name': 'block3_conv2',\n",
       "  'layer': 8,\n",
       "  'run_time': 294.20421981811523,\n",
       "  'rank': 1},\n",
       " {'name': 'block3_conv3',\n",
       "  'layer': 9,\n",
       "  'run_time': 341.2472097873688,\n",
       "  'rank': 2},\n",
       " {'name': 'block4_conv1',\n",
       "  'layer': 11,\n",
       "  'run_time': 244.5338954925537,\n",
       "  'rank': 3},\n",
       " {'name': 'block4_conv2',\n",
       "  'layer': 12,\n",
       "  'run_time': 245.3155107498169,\n",
       "  'rank': 0},\n",
       " {'name': 'block4_conv3',\n",
       "  'layer': 13,\n",
       "  'run_time': 204.89119458198547,\n",
       "  'rank': 1},\n",
       " {'name': 'block5_conv1',\n",
       "  'layer': 15,\n",
       "  'run_time': 229.66471695899963,\n",
       "  'rank': 2},\n",
       " {'name': 'block5_conv2',\n",
       "  'layer': 16,\n",
       "  'run_time': 240.42249655723572,\n",
       "  'rank': 3},\n",
       " {'name': 'block5_conv3',\n",
       "  'layer': 17,\n",
       "  'run_time': 183.12629389762878,\n",
       "  'rank': 0},\n",
       " {'total_time': 1388.0256743431091}]"
      ]
     },
     "execution_count": 4,
     "metadata": {},
     "output_type": "execute_result"
    }
   ],
   "source": [
    "four_gpu"
   ]
  },
  {
   "cell_type": "code",
   "execution_count": 5,
   "metadata": {},
   "outputs": [],
   "source": [
    "gpu_totals = {}\n",
    "\n",
    "for layer in four_gpu[:-1:]:\n",
    "    if layer['rank'] not in gpu_totals:\n",
    "        gpu_totals[layer['rank']] = layer['run_time']\n",
    "    else:\n",
    "        gpu_totals[layer['rank']] += layer['run_time']"
   ]
  },
  {
   "cell_type": "code",
   "execution_count": 6,
   "metadata": {},
   "outputs": [
    {
     "data": {
      "text/plain": [
       "{0: 1237.9525640010834,\n",
       " 1: 1388.2332427501678,\n",
       " 2: 1000.5464253425598,\n",
       " 3: 1012.6640491485596}"
      ]
     },
     "execution_count": 6,
     "metadata": {},
     "output_type": "execute_result"
    }
   ],
   "source": [
    "gpu_totals"
   ]
  },
  {
   "cell_type": "code",
   "execution_count": null,
   "metadata": {},
   "outputs": [],
   "source": []
  },
  {
   "cell_type": "code",
   "execution_count": 7,
   "metadata": {},
   "outputs": [],
   "source": [
    "job_count = {}\n",
    "\n",
    "for layer in four_gpu[:-1:]:\n",
    "    if layer['rank'] not in job_count:\n",
    "        job_count[layer['rank']] = 1\n",
    "    else:\n",
    "        job_count[layer['rank']] += 1"
   ]
  },
  {
   "cell_type": "code",
   "execution_count": 8,
   "metadata": {},
   "outputs": [
    {
     "data": {
      "text/plain": [
       "{0: 4, 1: 3, 2: 3, 3: 3}"
      ]
     },
     "execution_count": 8,
     "metadata": {},
     "output_type": "execute_result"
    }
   ],
   "source": [
    "job_count"
   ]
  },
  {
   "cell_type": "code",
   "execution_count": 9,
   "metadata": {},
   "outputs": [
    {
     "name": "stdout",
     "output_type": "stream",
     "text": [
      "[1, 7, 12, 17]\n",
      "[ 524.52397799  809.51075935 1054.8262701  1237.952564  ]\n",
      "[2, 8, 13]\n",
      "[ 889.13782835 1183.34204817 1388.23324275]\n",
      "[4, 9, 15]\n",
      "[ 429.6344986   770.88170838 1000.54642534]\n",
      "[5, 11, 16]\n",
      "[ 527.7076571   772.24155259 1012.66404915]\n"
     ]
    }
   ],
   "source": [
    "gpu_0 = [layer['run_time'] for layer in four_gpu[:-1:] if layer['rank'] == 0]\n",
    "print([layer['layer'] for layer in four_gpu[:-1:] if layer['rank'] == 0])\n",
    "print(np.cumsum(gpu_0))\n",
    "gpu_1 = [layer['run_time'] for layer in four_gpu[:-1:] if layer['rank'] == 1]\n",
    "print([layer['layer'] for layer in four_gpu[:-1:] if layer['rank'] == 1])\n",
    "print(np.cumsum(gpu_1))\n",
    "gpu_2 = [layer['run_time'] for layer in four_gpu[:-1:] if layer['rank'] == 2]\n",
    "print([layer['layer'] for layer in four_gpu[:-1:] if layer['rank'] == 2])\n",
    "print(np.cumsum(gpu_2))\n",
    "gpu_3 = [layer['run_time'] for layer in four_gpu[:-1:] if layer['rank'] == 3]\n",
    "print([layer['layer'] for layer in four_gpu[:-1:] if layer['rank'] == 3])\n",
    "print(np.cumsum(gpu_3))"
   ]
  },
  {
   "cell_type": "markdown",
   "metadata": {},
   "source": [
    "### Alt Schedules\n",
    "\n",
    "#### Next Available\n",
    "\n",
    "##### GPU 0\n",
    "\n",
    "1, 7, 12\n",
    "\n",
    "##### GPU 1\n",
    "\n",
    "2, 8\n",
    "\n",
    "##### GPU 2\n",
    "\n",
    "4, 9, 15, 17\n",
    "\n",
    "##### GPU 3\n",
    "\n",
    "5, 11, 16, 15\n",
    "\n",
    "#### Opt change of last task\n",
    "\n",
    "##### GPU 0\n",
    "\n",
    "1, 7, 12\n",
    "\n",
    "##### GPU 1\n",
    "\n",
    "2, 8\n",
    "\n",
    "##### GPU 2\n",
    "\n",
    "4, 9, 15, 15\n",
    "\n",
    "##### GPU 3\n",
    "\n",
    "5, 11, 16, 17"
   ]
  },
  {
   "cell_type": "code",
   "execution_count": 10,
   "metadata": {},
   "outputs": [],
   "source": [
    "# add zeros for stacked bar\n",
    "# chart\n",
    "gpu_1.append(0)\n",
    "gpu_2.append(0)\n",
    "gpu_3.append(0)"
   ]
  },
  {
   "cell_type": "code",
   "execution_count": 11,
   "metadata": {},
   "outputs": [],
   "source": [
    "task_0 = [gpu_0[0], gpu_1[0], gpu_2[0], gpu_3[0]]\n",
    "task_1 = [gpu_0[1], gpu_1[1], gpu_2[1], gpu_3[1]]\n",
    "task_2 = [gpu_0[2], gpu_1[2], gpu_2[2], gpu_3[2]]\n",
    "task_3 = [gpu_0[3], gpu_1[3], gpu_2[3], gpu_3[3]]"
   ]
  },
  {
   "cell_type": "code",
   "execution_count": 12,
   "metadata": {},
   "outputs": [],
   "source": [
    "r = [0, 1, 2, 3]\n",
    "names = ['gpu_0', 'gpu_1', 'gpu_2', 'gpu_3']"
   ]
  },
  {
   "cell_type": "code",
   "execution_count": 13,
   "metadata": {},
   "outputs": [
    {
     "data": {
      "text/plain": [
       "<matplotlib.legend.Legend at 0x7f54c12d76d8>"
      ]
     },
     "execution_count": 13,
     "metadata": {},
     "output_type": "execute_result"
    },
    {
     "data": {
      "image/png": "[encoded data removed]",
      "text/plain": [
       "<Figure size 432x288 with 1 Axes>"
      ]
     },
     "metadata": {
      "needs_background": "light"
     },
     "output_type": "display_data"
    }
   ],
   "source": [
    "one_two = np.add(task_0, task_1).tolist()\n",
    "all_three = np.add(one_two, task_2).tolist()\n",
    "plt.bar(r, task_0, edgecolor='white', width=1)\n",
    "plt.bar(r, task_1, bottom=task_0, edgecolor='white', width=1)\n",
    "plt.bar(r, task_2, bottom=np.add(task_0, task_1).tolist(), edgecolor='white', width=1)\n",
    "plt.bar(r, task_3, bottom=all_three, edgecolor='white', width=1)\n",
    "plt.legend(['Task 0', 'Task 1', 'Task 2', 'Task 3'], loc='upper right', ncol=2, fancybox=True, shadow=True)"
   ]
  },
  {
   "cell_type": "code",
   "execution_count": 14,
   "metadata": {},
   "outputs": [],
   "source": [
    "with open('three_gpu_cifar10.json', 'r') as f:\n",
    "    three_gpu_es = json.load(f)"
   ]
  },
  {
   "cell_type": "code",
   "execution_count": 15,
   "metadata": {},
   "outputs": [
    {
     "name": "stdout",
     "output_type": "stream",
     "text": [
      "{'name': 'block1_conv1', 'layer': 1, 'run_time': 622.1223328113556, 'rank': 0}\n",
      "{'name': 'block1_conv2', 'layer': 2, 'run_time': 1085.2417392730713, 'rank': 1}\n",
      "{'name': 'block2_conv1', 'layer': 4, 'run_time': 514.2735166549683, 'rank': 2}\n",
      "{'name': 'block2_conv2', 'layer': 5, 'run_time': 634.7863533496857, 'rank': 0}\n",
      "{'name': 'block3_conv1', 'layer': 7, 'run_time': 344.7665150165558, 'rank': 1}\n",
      "{'name': 'block3_conv2', 'layer': 8, 'run_time': 398.2465965747833, 'rank': 2}\n",
      "{'name': 'block3_conv3', 'layer': 9, 'run_time': 396.8348140716553, 'rank': 0}\n",
      "{'name': 'block4_conv1', 'layer': 11, 'run_time': 262.0815439224243, 'rank': 1}\n",
      "{'name': 'block4_conv2', 'layer': 12, 'run_time': 302.79961800575256, 'rank': 2}\n",
      "{'name': 'block4_conv3', 'layer': 13, 'run_time': 290.1068506240845, 'rank': 0}\n",
      "{'name': 'block5_conv1', 'layer': 15, 'run_time': 238.54691457748413, 'rank': 1}\n",
      "{'name': 'block5_conv2', 'layer': 16, 'run_time': 268.791960477829, 'rank': 2}\n",
      "{'name': 'block5_conv3', 'layer': 17, 'run_time': 225.99224710464478, 'rank': 0}\n"
     ]
    }
   ],
   "source": [
    "three_gpu_totals = {}\n",
    "\n",
    "for layer in three_gpu_es[0:-1:]:\n",
    "    print(layer)\n",
    "    if layer['rank'] not in three_gpu_totals:\n",
    "        three_gpu_totals[layer['rank']] = layer['run_time']\n",
    "    else:\n",
    "        three_gpu_totals[layer['rank']] += layer['run_time']"
   ]
  },
  {
   "cell_type": "code",
   "execution_count": 16,
   "metadata": {},
   "outputs": [
    {
     "data": {
      "text/plain": [
       "{0: 2169.842597961426, 1: 1930.6367127895355, 2: 1484.1116917133331}"
      ]
     },
     "execution_count": 16,
     "metadata": {},
     "output_type": "execute_result"
    }
   ],
   "source": [
    "three_gpu_totals"
   ]
  },
  {
   "cell_type": "code",
   "execution_count": 17,
   "metadata": {},
   "outputs": [
    {
     "name": "stdout",
     "output_type": "stream",
     "text": [
      "[1, 5, 9, 13, 17]\n",
      "[ 622.12233281 1256.90868616 1653.74350023 1943.85035086 2169.84259796]\n",
      "[2, 7, 11, 15]\n",
      "[1085.24173927 1430.00825429 1692.08979821 1930.63671279]\n",
      "[2, 7, 11, 15]\n",
      "[ 514.27351665  912.52011323 1215.31973124 1484.11169171]\n"
     ]
    }
   ],
   "source": [
    "gpu_0 = [layer['run_time'] for layer in three_gpu_es[:-1:] if layer['rank'] == 0]\n",
    "print([layer['layer'] for layer in three_gpu_es[:-1:] if layer['rank'] == 0])\n",
    "print(np.cumsum(gpu_0))\n",
    "gpu_1 = [layer['run_time'] for layer in three_gpu_es[:-1:] if layer['rank'] == 1]\n",
    "print([layer['layer'] for layer in three_gpu_es[:-1:] if layer['rank'] == 1])\n",
    "print(np.cumsum(gpu_1))\n",
    "gpu_2 = [layer['run_time'] for layer in three_gpu_es[:-1:] if layer['rank'] == 2]\n",
    "print([layer['layer'] for layer in three_gpu_es[:-1:] if layer['rank'] == 1])\n",
    "print(np.cumsum(gpu_2))"
   ]
  },
  {
   "cell_type": "code",
   "execution_count": 18,
   "metadata": {},
   "outputs": [],
   "source": [
    "gpu_1.append(0)\n",
    "gpu_2.append(0)"
   ]
  },
  {
   "cell_type": "code",
   "execution_count": 19,
   "metadata": {},
   "outputs": [],
   "source": [
    "task_0 = [gpu_0[0], gpu_1[0], gpu_2[0]]\n",
    "task_1 = [gpu_0[1], gpu_1[1], gpu_2[1]]\n",
    "task_2 = [gpu_0[2], gpu_1[2], gpu_2[2]]\n",
    "task_3 = [gpu_0[3], gpu_1[3], gpu_2[3]]\n",
    "task_4 = [gpu_0[4], gpu_1[4], gpu_2[4]]"
   ]
  },
  {
   "cell_type": "code",
   "execution_count": 20,
   "metadata": {},
   "outputs": [],
   "source": [
    "r = [0, 1, 2]\n",
    "names = ['gpu_0', 'gpu_1', 'gpu_2']"
   ]
  },
  {
   "cell_type": "code",
   "execution_count": 21,
   "metadata": {},
   "outputs": [
    {
     "data": {
      "text/plain": [
       "<matplotlib.legend.Legend at 0x7f54c0b5d278>"
      ]
     },
     "execution_count": 21,
     "metadata": {},
     "output_type": "execute_result"
    },
    {
     "data": {
      "image/png": "[encoded data removed]",
      "text/plain": [
       "<Figure size 432x288 with 1 Axes>"
      ]
     },
     "metadata": {
      "needs_background": "light"
     },
     "output_type": "display_data"
    }
   ],
   "source": [
    "one_two = np.add(task_0, task_1).tolist()\n",
    "all_three = np.add(one_two, task_2).tolist()\n",
    "all_four = np.add(all_three, task_3).tolist()\n",
    "plt.bar(r, task_0, edgecolor='white', width=1)\n",
    "plt.bar(r, task_1, bottom=task_0, edgecolor='white', width=1)\n",
    "plt.bar(r, task_2, bottom=np.add(task_0, task_1).tolist(), edgecolor='white', width=1)\n",
    "plt.bar(r, task_3, bottom=all_three, edgecolor='white', width=1)\n",
    "plt.bar(r, task_4, bottom=all_four, edgecolor='white', width=1)\n",
    "plt.legend(['Task 0', 'Task 1', 'Task 2', 'Task 3', 'Task 4'], loc='upper right', bbox_to_anchor=(1, 1.14), ncol=2, fancybox=True, shadow=True)\n"
   ]
  },
  {
   "cell_type": "code",
   "execution_count": null,
   "metadata": {},
   "outputs": [],
   "source": []
  }
 ],
 "metadata": {
  "kernelspec": {
   "display_name": "Python 3",
   "language": "python",
   "name": "python3"
  },
  "language_info": {
   "codemirror_mode": {
    "name": "ipython",
    "version": 3
   },
   "file_extension": ".py",
   "mimetype": "text/x-python",
   "name": "python",
   "nbconvert_exporter": "python",
   "pygments_lexer": "ipython3",
   "version": "3.6.9"
  }
 },
 "nbformat": 4,
 "nbformat_minor": 4
}
