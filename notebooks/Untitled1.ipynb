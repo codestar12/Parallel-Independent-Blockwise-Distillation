{
 "cells": [
  {
   "cell_type": "code",
   "execution_count": 9,
   "metadata": {},
   "outputs": [],
   "source": [
    "import tensorflow as tf\n",
    "import numpy as np\n",
    "import matplotlib.pyplot as plt\n",
    "import sys \n",
    "import os\n",
    "from PIL import Image"
   ]
  },
  {
   "cell_type": "code",
   "execution_count": 10,
   "metadata": {},
   "outputs": [
    {
     "name": "stdout",
     "output_type": "stream",
     "text": [
      "Requirement already satisfied: pillow in /usr/local/lib/python3.6/dist-packages (7.2.0)\n",
      "\u001b[33mWARNING: You are using pip version 20.1; however, version 20.1.1 is available.\n",
      "You should consider upgrading via the '/usr/bin/python3 -m pip install --upgrade pip' command.\u001b[0m\n"
     ]
    }
   ],
   "source": [
    "!pip install pillow"
   ]
  },
  {
   "cell_type": "code",
   "execution_count": 11,
   "metadata": {},
   "outputs": [],
   "source": [
    "list_ds = tf.data.Dataset.list_files(str('../bean_data/*/*'))"
   ]
  },
  {
   "cell_type": "code",
   "execution_count": 12,
   "metadata": {},
   "outputs": [
    {
     "name": "stdout",
     "output_type": "stream",
     "text": [
      "tf.Tensor(b'../bean_data/angular leaf spot of beans/Image_243.jpg', shape=(), dtype=string)\n"
     ]
    }
   ],
   "source": [
    "for x in list_ds.take(1):\n",
    "    print(x)"
   ]
  },
  {
   "cell_type": "code",
   "execution_count": 13,
   "metadata": {},
   "outputs": [],
   "source": [
    "def parse_image(filename):\n",
    "  parts = tf.strings.split(filename, os.sep)\n",
    "  label = parts[-2]\n",
    "\n",
    "  image = tf.io.read_file(filename)\n",
    "  try:\n",
    "      image = tf.image.decode_jpeg(image, channels=3)\n",
    "  except Exception as e:\n",
    "    print(e)\n",
    "    print(filename)\n",
    "  image = tf.image.convert_image_dtype(image, tf.float32)\n",
    "  image = tf.image.resize_with_pad(image, 224, 224)\n",
    "  return image, label"
   ]
  },
  {
   "cell_type": "code",
   "execution_count": 14,
   "metadata": {},
   "outputs": [
    {
     "name": "stdout",
     "output_type": "stream",
     "text": [
      "processing file 0 filepath b'../bean_data/Phaeoisariopsis griseola beans/Image_394.png'\n",
      "processing file 100 filepath b'../bean_data/angular leaf spot of beans/Image_120.jpg'\n",
      "processing file 200 filepath b'../bean_data/Phaeoisariopsis griseola beans/Image_11.jpg'\n",
      "processing file 300 filepath b'../bean_data/Phaseolus vulgaris leaves/Image_421.jpg'\n",
      "processing file 400 filepath b'../bean_data/bean leaves/Image_6.JPG'\n",
      "processing file 500 filepath b'../bean_data/Phaseolus vulgaris leaves/Image_224.jpg'\n",
      "processing file 600 filepath b'../bean_data/angular leaf spot of beans/Image_347.jpg'\n",
      "processing file 700 filepath b'../bean_data/Phaseolus vulgaris leaves/Image_389.jpg'\n",
      "processing file 800 filepath b'../bean_data/Phaseolus vulgaris leaves/Image_434.jpg'\n",
      "processing file 900 filepath b'../bean_data/bean leaves/Image_25.jpg'\n",
      "processing file 1000 filepath b'../bean_data/Phaseolus vulgaris leaves/Image_479.jpg'\n",
      "processing file 1100 filepath b'../bean_data/bean leaves/Image_185.jpg'\n",
      "processing file 1200 filepath b'../bean_data/Phaseolus vulgaris leaves/Image_156.jpg'\n",
      "processing file 1300 filepath b'../bean_data/Phaseolus vulgaris leaves/Image_429.jpg'\n",
      "processing file 1400 filepath b'../bean_data/Phaseolus vulgaris leaves/Image_295.jpg'\n",
      "processing file 1500 filepath b'../bean_data/bean leaves/Image_299.jpg'\n",
      "processing file 1600 filepath b'../bean_data/Phaseolus vulgaris leaves/Image_251.jpg'\n",
      "processing file 1700 filepath b'../bean_data/angular leaf spot of beans/Image_465.jpg'\n",
      "processing file 1800 filepath b'../bean_data/angular leaf spot of beans/Image_304.jpg'\n",
      "processing file 1900 filepath b'../bean_data/Phaeoisariopsis griseola beans/Image_200.jpg'\n",
      "processing file 2000 filepath b'../bean_data/bean leaves/Image_238.jpg'\n",
      "processing file 2100 filepath b'../bean_data/angular leaf spot of beans/Image_430.jpg'\n"
     ]
    }
   ],
   "source": [
    "for i, file_path in enumerate(list_ds):\n",
    "    if i % 100 == 0:\n",
    "        print(f\"processing file {i} filepath {file_path}\")\n",
    "    image, label = parse_image(file_path)\n",
    "    \n"
   ]
  },
  {
   "cell_type": "code",
   "execution_count": null,
   "metadata": {},
   "outputs": [],
   "source": []
  },
  {
   "cell_type": "code",
   "execution_count": null,
   "metadata": {},
   "outputs": [],
   "source": []
  }
 ],
 "metadata": {
  "kernelspec": {
   "display_name": "Python 3",
   "language": "python",
   "name": "python3"
  },
  "language_info": {
   "codemirror_mode": {
    "name": "ipython",
    "version": 3
   },
   "file_extension": ".py",
   "mimetype": "text/x-python",
   "name": "python",
   "nbconvert_exporter": "python",
   "pygments_lexer": "ipython3",
   "version": "3.6.9"
  }
 },
 "nbformat": 4,
 "nbformat_minor": 4
}
